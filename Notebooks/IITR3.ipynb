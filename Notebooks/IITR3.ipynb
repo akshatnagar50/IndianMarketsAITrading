{
  "cells": [
    {
      "cell_type": "code",
      "execution_count": 1,
      "metadata": {
        "colab": {
          "base_uri": "https://localhost:8080/"
        },
        "id": "0X-bKQeyKM5M",
        "outputId": "730daaff-267a-4bea-d3d3-8b0d6152ec47"
      },
      "outputs": [
        {
          "output_type": "stream",
          "name": "stdout",
          "text": [
            "Looking in indexes: https://pypi.org/simple, https://us-python.pkg.dev/colab-wheels/public/simple/\n",
            "Requirement already satisfied: kaggle in /usr/local/lib/python3.7/dist-packages (1.5.12)\n",
            "Requirement already satisfied: python-slugify in /usr/local/lib/python3.7/dist-packages (from kaggle) (6.1.2)\n",
            "Requirement already satisfied: requests in /usr/local/lib/python3.7/dist-packages (from kaggle) (2.23.0)\n",
            "Requirement already satisfied: python-dateutil in /usr/local/lib/python3.7/dist-packages (from kaggle) (2.8.2)\n",
            "Requirement already satisfied: certifi in /usr/local/lib/python3.7/dist-packages (from kaggle) (2022.6.15)\n",
            "Requirement already satisfied: tqdm in /usr/local/lib/python3.7/dist-packages (from kaggle) (4.64.0)\n",
            "Requirement already satisfied: urllib3 in /usr/local/lib/python3.7/dist-packages (from kaggle) (1.24.3)\n",
            "Requirement already satisfied: six>=1.10 in /usr/local/lib/python3.7/dist-packages (from kaggle) (1.15.0)\n",
            "Requirement already satisfied: text-unidecode>=1.3 in /usr/local/lib/python3.7/dist-packages (from python-slugify->kaggle) (1.3)\n",
            "Requirement already satisfied: chardet<4,>=3.0.2 in /usr/local/lib/python3.7/dist-packages (from requests->kaggle) (3.0.4)\n",
            "Requirement already satisfied: idna<3,>=2.5 in /usr/local/lib/python3.7/dist-packages (from requests->kaggle) (2.10)\n",
            "Downloading r-street-quant-challenge.zip to /content\n",
            "  0% 0.00/2.48M [00:00<?, ?B/s]\n",
            "100% 2.48M/2.48M [00:00<00:00, 222MB/s]\n"
          ]
        }
      ],
      "source": [
        "!pip install kaggle\n",
        "!mkdir ~/.kaggle\n",
        "!cp kaggle.json ~/.kaggle/\n",
        "! chmod 600 ~/.kaggle/kaggle.json\n",
        "!kaggle competitions download -c r-street-quant-challenge"
      ]
    },
    {
      "cell_type": "code",
      "execution_count": null,
      "metadata": {
        "id": "NLB7Y4lXKOqB"
      },
      "outputs": [],
      "source": [
        "from sklearn.preprocessing import MinMaxScaler\n",
        "from keras.models import Sequential\n",
        "import pandas as pd\n",
        "import numpy as np\n",
        "import tensorflow as tf\n",
        "import matplotlib.pyplot as plt\n",
        "from keras.layers import Dense, Dropout, LSTM"
      ]
    },
    {
      "cell_type": "code",
      "execution_count": null,
      "metadata": {
        "id": "zdIYBG1sKTTD"
      },
      "outputs": [],
      "source": [
        "df=pd.read_csv(\"/content/train_data.csv\")\n",
        "df2=pd.read_csv(\"/content/test_data.csv\")\n",
        "df3=pd.read_csv(\"/content/train_target.csv\")"
      ]
    },
    {
      "cell_type": "code",
      "execution_count": null,
      "metadata": {
        "colab": {
          "base_uri": "https://localhost:8080/"
        },
        "id": "Xj2ADrGDqXNI",
        "outputId": "cfac0a97-b3da-415e-ec77-1e9a3c55c435"
      },
      "outputs": [
        {
          "data": {
            "text/plain": [
              "0.49011764705882355"
            ]
          },
          "execution_count": 5,
          "metadata": {},
          "output_type": "execute_result"
        }
      ],
      "source": [
        "target=df3['target'].to_numpy()\n",
        "df3['One']=1\n",
        "diff=df3['One']-df3['target']\n",
        "diff=diff.abs()\n",
        "from sklearn.metrics import roc_auc_score\n",
        "diff.mean()"
      ]
    },
    {
      "cell_type": "code",
      "execution_count": null,
      "metadata": {
        "colab": {
          "base_uri": "https://localhost:8080/"
        },
        "id": "7x9y8wk6q_Eu",
        "outputId": "d4cd32bd-40b8-42c8-bc77-81d3fb5adc43"
      },
      "outputs": [
        {
          "data": {
            "text/plain": [
              "0.5"
            ]
          },
          "execution_count": 19,
          "metadata": {},
          "output_type": "execute_result"
        }
      ],
      "source": [
        "roc_auc_score(df3['target'],df3['One'])"
      ]
    },
    {
      "cell_type": "code",
      "execution_count": null,
      "metadata": {
        "colab": {
          "base_uri": "https://localhost:8080/"
        },
        "id": "vfP4IbJW18xD",
        "outputId": "50bfc15b-ed43-4229-c219-7cc81669215b"
      },
      "outputs": [
        {
          "data": {
            "text/plain": [
              "Index(['Id', 'date', 'open', 'high', 'low', 'close', 'day', 'week', 'SMA_7',\n",
              "       'SMA_14', 'SMA_21', 'RSI_7', 'RSI_14', 'RSI_21', 'ATR_14', 'bb_mavg',\n",
              "       'bb_hband', 'bb_lband'],\n",
              "      dtype='object')"
            ]
          },
          "execution_count": 6,
          "metadata": {},
          "output_type": "execute_result"
        }
      ],
      "source": [
        "df.columns"
      ]
    },
    {
      "cell_type": "code",
      "execution_count": null,
      "metadata": {
        "id": "xaNLiH0HLIDc"
      },
      "outputs": [],
      "source": [
        "def adx(DF,n=20):\n",
        "    \"function to calculate ADX\"\n",
        "    df2 = DF.copy()\n",
        "    df2['H-L']=abs(df2['high']-df2['low'])\n",
        "    df2['H-PC']=abs(df2['high']-df2['close'].shift(1))\n",
        "    df2['L-PC']=abs(df2['low']-df2['close'].shift(1))\n",
        "    df2['TR']=df2[['H-L','H-PC','L-PC']].max(axis=1,skipna=False)\n",
        "    df2['+DM']=np.where((df2['high']-df2['high'].shift(1))>(df2['low'].shift(1)-df2['low']),df2['high']-df2['high'].shift(1),0)\n",
        "    df2['+DM']=np.where(df2['+DM']<0,0,df2['+DM'])\n",
        "    df2['-DM']=np.where((df2['low'].shift(1)-df2['low'])>(df2['high']-df2['high'].shift(1)),df2['low'].shift(1)-df2['low'],0)\n",
        "    df2['-DM']=np.where(df2['-DM']<0,0,df2['-DM'])\n",
        "\n",
        "    df2[\"+DMMA\"]=df2['+DM'].ewm(span=n,min_periods=n).mean()\n",
        "    df2[\"-DMMA\"]=df2['-DM'].ewm(span=n,min_periods=n).mean()\n",
        "    df2[\"TRMA\"]=df2['TR'].ewm(span=n,min_periods=n).mean()\n",
        "\n",
        "    df2[\"+DI\"]=100*(df2[\"+DMMA\"]/df2[\"TRMA\"])\n",
        "    df2[\"-DI\"]=100*(df2[\"-DMMA\"]/df2[\"TRMA\"])\n",
        "    df2[\"DX\"]=100*(abs(df2[\"+DI\"]-df2[\"-DI\"])/(df2[\"+DI\"]+df2[\"-DI\"]))\n",
        "    \n",
        "    df2[\"ADX\"]=df2[\"DX\"].ewm(span=n,min_periods=n).mean()\n",
        "\n",
        "    return df2\n"
      ]
    },
    {
      "cell_type": "code",
      "execution_count": null,
      "metadata": {
        "colab": {
          "base_uri": "https://localhost:8080/",
          "height": 409
        },
        "id": "FzZ0viNNCfRH",
        "outputId": "8db7c6e0-aa5a-467c-dada-816588835a13"
      },
      "outputs": [
        {
          "name": "stderr",
          "output_type": "stream",
          "text": [
            "/usr/local/lib/python3.7/dist-packages/ipykernel_launcher.py:10: SettingWithCopyWarning: \n",
            "A value is trying to be set on a copy of a slice from a DataFrame\n",
            "\n",
            "See the caveats in the documentation: https://pandas.pydata.org/pandas-docs/stable/user_guide/indexing.html#returning-a-view-versus-a-copy\n",
            "  # Remove the CWD from sys.path while we load stuff.\n",
            "/usr/local/lib/python3.7/dist-packages/ipykernel_launcher.py:13: SettingWithCopyWarning: \n",
            "A value is trying to be set on a copy of a slice from a DataFrame\n",
            "\n",
            "See the caveats in the documentation: https://pandas.pydata.org/pandas-docs/stable/user_guide/indexing.html#returning-a-view-versus-a-copy\n",
            "  del sys.path[0]\n"
          ]
        },
        {
          "ename": "NameError",
          "evalue": "ignored",
          "output_type": "error",
          "traceback": [
            "\u001b[0;31m---------------------------------------------------------------------------\u001b[0m",
            "\u001b[0;31mNameError\u001b[0m                                 Traceback (most recent call last)",
            "\u001b[0;32m<ipython-input-8-316dd6eeca4a>\u001b[0m in \u001b[0;36m<module>\u001b[0;34m()\u001b[0m\n\u001b[1;32m     17\u001b[0m     \u001b[0mm\u001b[0m\u001b[0;34m+=\u001b[0m\u001b[0;36m1\u001b[0m\u001b[0;34m\u001b[0m\u001b[0;34m\u001b[0m\u001b[0m\n\u001b[1;32m     18\u001b[0m   \u001b[0;32melse\u001b[0m\u001b[0;34m:\u001b[0m\u001b[0;34m\u001b[0m\u001b[0;34m\u001b[0m\u001b[0m\n\u001b[0;32m---> 19\u001b[0;31m     \u001b[0mdummy\u001b[0m\u001b[0;34m[\u001b[0m\u001b[0;34m'SMA_DI'\u001b[0m\u001b[0;34m]\u001b[0m\u001b[0;34m[\u001b[0m\u001b[0mj\u001b[0m\u001b[0;34m]\u001b[0m\u001b[0;34m=\u001b[0m\u001b[0mmodel\u001b[0m\u001b[0;34m.\u001b[0m\u001b[0mpredict\u001b[0m\u001b[0;34m(\u001b[0m\u001b[0minlet\u001b[0m\u001b[0;34m)\u001b[0m\u001b[0;34m\u001b[0m\u001b[0;34m\u001b[0m\u001b[0m\n\u001b[0m\u001b[1;32m     20\u001b[0m     \u001b[0;32mif\u001b[0m\u001b[0;34m(\u001b[0m\u001b[0mdummy\u001b[0m\u001b[0;34m[\u001b[0m\u001b[0;34m'diff'\u001b[0m\u001b[0;34m]\u001b[0m\u001b[0;34m[\u001b[0m\u001b[0mj\u001b[0m\u001b[0;34m]\u001b[0m\u001b[0;34m<\u001b[0m\u001b[0;36m0\u001b[0m \u001b[0;32mand\u001b[0m \u001b[0mdummy\u001b[0m\u001b[0;34m[\u001b[0m\u001b[0;34m'cross'\u001b[0m\u001b[0;34m]\u001b[0m\u001b[0;34m[\u001b[0m\u001b[0mj\u001b[0m\u001b[0;34m]\u001b[0m\u001b[0;34m>\u001b[0m\u001b[0;36m0\u001b[0m\u001b[0;34m)\u001b[0m\u001b[0;34m:\u001b[0m\u001b[0;34m\u001b[0m\u001b[0;34m\u001b[0m\u001b[0m\n\u001b[1;32m     21\u001b[0m       \u001b[0;32mif\u001b[0m \u001b[0;34m(\u001b[0m\u001b[0mdummy\u001b[0m\u001b[0;34m[\u001b[0m\u001b[0;34m'cross'\u001b[0m\u001b[0;34m]\u001b[0m\u001b[0;34m[\u001b[0m\u001b[0mj\u001b[0m\u001b[0;34m]\u001b[0m\u001b[0;34m>\u001b[0m\u001b[0;34m(\u001b[0m\u001b[0;34m-\u001b[0m\u001b[0;36m1\u001b[0m\u001b[0;34m)\u001b[0m\u001b[0;34m*\u001b[0m\u001b[0mdummy\u001b[0m\u001b[0;34m[\u001b[0m\u001b[0;34m'diff'\u001b[0m\u001b[0;34m]\u001b[0m\u001b[0;34m[\u001b[0m\u001b[0mj\u001b[0m\u001b[0;34m]\u001b[0m\u001b[0;34m)\u001b[0m\u001b[0;34m:\u001b[0m \u001b[0mdummy\u001b[0m\u001b[0;34m[\u001b[0m\u001b[0;34m'SMA_DI'\u001b[0m\u001b[0;34m]\u001b[0m\u001b[0;34m[\u001b[0m\u001b[0mj\u001b[0m\u001b[0;34m]\u001b[0m\u001b[0;34m=\u001b[0m\u001b[0;36m1\u001b[0m\u001b[0;34m\u001b[0m\u001b[0;34m\u001b[0m\u001b[0m\n",
            "\u001b[0;31mNameError\u001b[0m: name 'model' is not defined"
          ]
        }
      ],
      "source": [
        "#Reached 0.5172779405972452\n",
        "#Reached 0.5172779405972452\n",
        "dummy=df.copy()\n",
        "dummy=adx(dummy,19)\n",
        "dummy['SMA_DI']=0.503\n",
        "dummy['diff']=dummy['+DI']-dummy['-DI']\n",
        "dummy['cross']=dummy['SMA_7']-dummy['SMA_21']\n",
        "k,m=0,0\n",
        "for i in range(20):\n",
        "  dummy['SMA_DI'][i]=0.503\n",
        "for j in range(20,25500):\n",
        "  if dummy['diff'][j]>0 and dummy['cross'][j]>0:\n",
        "    dummy['SMA_DI'][j]=1\n",
        "    k+=1\n",
        "  elif dummy['diff'][j]<0 and dummy['cross'][j]<0:\n",
        "    dummy['SMA_DI'][j]=0.05\n",
        "    m+=1\n",
        "  else:\n",
        "    dummy['SMA_DI'][j]=model.predict(inlet)\n",
        "    if(dummy['diff'][j]<0 and dummy['cross'][j]>0):\n",
        "      if (dummy['cross'][j]>(-1)*dummy['diff'][j]): dummy['SMA_DI'][j]=1\n",
        "      else: dummy['SMA_DI'][j]=0\n",
        "    else:\n",
        "      if (dummy['diff'][j]>(-1)*dummy['cross'][j]): dummy['SMA_DI'][j]=1\n",
        "      else:\n",
        "        dummy['SMA_DI'][j]=model.predict(df_train[j])\n",
        "a=pd.DataFrame()\n",
        "a['Id']=np.linspace(0,10316,num=10317)\n",
        "a['target']=dummy['SMA_DI']\n",
        "\n",
        "a.to_csv(\"Submission-1.csv\")"
      ]
    },
    {
      "cell_type": "code",
      "execution_count": null,
      "metadata": {
        "colab": {
          "base_uri": "https://localhost:8080/"
        },
        "id": "UtKJlGnlv9Kr",
        "outputId": "13d23ad0-6cf6-4088-a74a-cf0e051a1694"
      },
      "outputs": [
        {
          "name": "stderr",
          "output_type": "stream",
          "text": [
            "/usr/local/lib/python3.7/dist-packages/ipykernel_launcher.py:4: SettingWithCopyWarning: \n",
            "A value is trying to be set on a copy of a slice from a DataFrame\n",
            "\n",
            "See the caveats in the documentation: https://pandas.pydata.org/pandas-docs/stable/user_guide/indexing.html#returning-a-view-versus-a-copy\n",
            "  after removing the cwd from sys.path.\n"
          ]
        }
      ],
      "source": [
        "contra=df.copy()\n",
        "contra['contrarian']=0.5\n",
        "for i in range(5,25500):\n",
        "  contra['contrarian'][i]=0 if (df['close'][i]-df['close'][i-5]>0) else 1"
      ]
    },
    {
      "cell_type": "code",
      "execution_count": null,
      "metadata": {
        "id": "E5gePUabyGd_"
      },
      "outputs": [],
      "source": [
        "def MACD(DF,a=12,b=26,c=9):\n",
        "    \"\"\"function to calculate MACD\n",
        "       typical values a(fast moving average) = 12; \n",
        "                      b(slow moving average) =26; \n",
        "                      c(signal line ma window) =9\"\"\"\n",
        "    df = DF.copy()\n",
        "    df[\"MA_Fast\"]=df[\"close\"].ewm(span=a,min_periods=a).mean()\n",
        "    df[\"MA_Slow\"]=df[\"close\"].ewm(span=b,min_periods=b).mean()\n",
        "    df[\"MACD\"]=df[\"MA_Fast\"]-df[\"MA_Slow\"]\n",
        "    df[\"Signal\"]=df[\"MACD\"].ewm(span=c,min_periods=c).mean()\n",
        "    df.dropna(inplace=True)\n",
        "    return df"
      ]
    },
    {
      "cell_type": "code",
      "execution_count": null,
      "metadata": {
        "id": "tfB0M-PSyKMr"
      },
      "outputs": [],
      "source": [
        "df=MACD(df)\n",
        "df2=MACD(df2)"
      ]
    },
    {
      "cell_type": "code",
      "execution_count": null,
      "metadata": {
        "colab": {
          "base_uri": "https://localhost:8080/"
        },
        "id": "N3M2KnnuyRLX",
        "outputId": "814889f7-15f5-46b3-af18-a648806ce6ae"
      },
      "outputs": [
        {
          "data": {
            "text/plain": [
              "0.5"
            ]
          },
          "execution_count": 12,
          "metadata": {},
          "output_type": "execute_result"
        }
      ],
      "source": [
        "macd_ind=df.copy()\n",
        "macd_ind['macd']=0.5\n",
        "for i in range(99,25500):\n",
        "  if (macd_ind['macd'][i]>0):\n",
        "    macd_ind['macd']=1\n",
        "  else:\n",
        "    macd_ind['macd']=0\n",
        "\n",
        "difference=macd_ind['macd']-df3['target']\n",
        "difference=difference.abs()\n",
        "loss=difference.mean()\n",
        "loss\n",
        "label=df3['target'][33:]\n",
        "roc_auc_score(label,macd_ind['macd'])"
      ]
    },
    {
      "cell_type": "code",
      "execution_count": null,
      "metadata": {
        "id": "0VaidotfDmVW"
      },
      "outputs": [],
      "source": [
        ""
      ]
    },
    {
      "cell_type": "code",
      "execution_count": null,
      "metadata": {
        "colab": {
          "base_uri": "https://localhost:8080/"
        },
        "id": "Umzcl57XxHlK",
        "outputId": "21adec57-c95f-433c-be10-589bcbab836b"
      },
      "outputs": [
        {
          "data": {
            "text/plain": [
              "0.5056666666666667"
            ]
          },
          "execution_count": 61,
          "metadata": {},
          "output_type": "execute_result"
        }
      ],
      "source": [
        "difference=contra['contrarian']-df3['target']\n",
        "difference=difference.abs()\n",
        "loss=difference.mean()\n",
        "loss"
      ]
    },
    {
      "cell_type": "code",
      "execution_count": null,
      "metadata": {
        "colab": {
          "base_uri": "https://localhost:8080/",
          "height": 679
        },
        "id": "cJEezoR8pmIq",
        "outputId": "0903b747-0c71-4023-ebc3-a1d65b148c58"
      },
      "outputs": [
        {
          "name": "stderr",
          "output_type": "stream",
          "text": [
            "/usr/local/lib/python3.7/dist-packages/ipykernel_launcher.py:7: SettingWithCopyWarning: \n",
            "A value is trying to be set on a copy of a slice from a DataFrame\n",
            "\n",
            "See the caveats in the documentation: https://pandas.pydata.org/pandas-docs/stable/user_guide/indexing.html#returning-a-view-versus-a-copy\n",
            "  import sys\n"
          ]
        },
        {
          "ename": "KeyError",
          "evalue": "ignored",
          "output_type": "error",
          "traceback": [
            "\u001b[0;31m---------------------------------------------------------------------------\u001b[0m",
            "\u001b[0;31mKeyError\u001b[0m                                  Traceback (most recent call last)",
            "\u001b[0;32m/usr/local/lib/python3.7/dist-packages/pandas/core/indexes/base.py\u001b[0m in \u001b[0;36mget_loc\u001b[0;34m(self, key, method, tolerance)\u001b[0m\n\u001b[1;32m   2897\u001b[0m             \u001b[0;32mtry\u001b[0m\u001b[0;34m:\u001b[0m\u001b[0;34m\u001b[0m\u001b[0;34m\u001b[0m\u001b[0m\n\u001b[0;32m-> 2898\u001b[0;31m                 \u001b[0;32mreturn\u001b[0m \u001b[0mself\u001b[0m\u001b[0;34m.\u001b[0m\u001b[0m_engine\u001b[0m\u001b[0;34m.\u001b[0m\u001b[0mget_loc\u001b[0m\u001b[0;34m(\u001b[0m\u001b[0mcasted_key\u001b[0m\u001b[0;34m)\u001b[0m\u001b[0;34m\u001b[0m\u001b[0;34m\u001b[0m\u001b[0m\n\u001b[0m\u001b[1;32m   2899\u001b[0m             \u001b[0;32mexcept\u001b[0m \u001b[0mKeyError\u001b[0m \u001b[0;32mas\u001b[0m \u001b[0merr\u001b[0m\u001b[0;34m:\u001b[0m\u001b[0;34m\u001b[0m\u001b[0;34m\u001b[0m\u001b[0m\n",
            "\u001b[0;32mpandas/_libs/index.pyx\u001b[0m in \u001b[0;36mpandas._libs.index.IndexEngine.get_loc\u001b[0;34m()\u001b[0m\n",
            "\u001b[0;32mpandas/_libs/index.pyx\u001b[0m in \u001b[0;36mpandas._libs.index.IndexEngine.get_loc\u001b[0;34m()\u001b[0m\n",
            "\u001b[0;32mpandas/_libs/hashtable_class_helper.pxi\u001b[0m in \u001b[0;36mpandas._libs.hashtable.Int64HashTable.get_item\u001b[0;34m()\u001b[0m\n",
            "\u001b[0;32mpandas/_libs/hashtable_class_helper.pxi\u001b[0m in \u001b[0;36mpandas._libs.hashtable.Int64HashTable.get_item\u001b[0;34m()\u001b[0m\n",
            "\u001b[0;31mKeyError\u001b[0m: 20",
            "\nThe above exception was the direct cause of the following exception:\n",
            "\u001b[0;31mKeyError\u001b[0m                                  Traceback (most recent call last)",
            "\u001b[0;32m<ipython-input-58-98a6fbd55dec>\u001b[0m in \u001b[0;36m<module>\u001b[0;34m()\u001b[0m\n\u001b[1;32m      7\u001b[0m     \u001b[0mtemp\u001b[0m\u001b[0;34m[\u001b[0m\u001b[0;34m\"technical wonly\"\u001b[0m\u001b[0;34m]\u001b[0m\u001b[0;34m[\u001b[0m\u001b[0mi\u001b[0m\u001b[0;34m]\u001b[0m\u001b[0;34m=\u001b[0m\u001b[0;36m0.5\u001b[0m\u001b[0;34m\u001b[0m\u001b[0;34m\u001b[0m\u001b[0m\n\u001b[1;32m      8\u001b[0m   \u001b[0;32mfor\u001b[0m \u001b[0mj\u001b[0m \u001b[0;32min\u001b[0m \u001b[0mrange\u001b[0m\u001b[0;34m(\u001b[0m\u001b[0;36m20\u001b[0m\u001b[0;34m,\u001b[0m\u001b[0;36m25500\u001b[0m\u001b[0;34m)\u001b[0m\u001b[0;34m:\u001b[0m\u001b[0;34m\u001b[0m\u001b[0;34m\u001b[0m\u001b[0m\n\u001b[0;32m----> 9\u001b[0;31m     \u001b[0;32mif\u001b[0m \u001b[0;34m(\u001b[0m\u001b[0mtemp\u001b[0m\u001b[0;34m[\u001b[0m\u001b[0;34m'RSI_14'\u001b[0m\u001b[0;34m]\u001b[0m\u001b[0;34m[\u001b[0m\u001b[0mj\u001b[0m\u001b[0;34m]\u001b[0m\u001b[0;34m>\u001b[0m\u001b[0;36m60\u001b[0m \u001b[0;32mand\u001b[0m \u001b[0mtemp\u001b[0m\u001b[0;34m[\u001b[0m\u001b[0;34m'+DI'\u001b[0m\u001b[0;34m]\u001b[0m\u001b[0;34m[\u001b[0m\u001b[0mj\u001b[0m\u001b[0;34m]\u001b[0m\u001b[0;34m>\u001b[0m\u001b[0mtemp\u001b[0m\u001b[0;34m[\u001b[0m\u001b[0;34m'-DI'\u001b[0m\u001b[0;34m]\u001b[0m\u001b[0;34m[\u001b[0m\u001b[0mj\u001b[0m\u001b[0;34m]\u001b[0m\u001b[0;34m)\u001b[0m\u001b[0;34m:\u001b[0m\u001b[0;34m\u001b[0m\u001b[0;34m\u001b[0m\u001b[0m\n\u001b[0m\u001b[1;32m     10\u001b[0m       \u001b[0mtemp\u001b[0m\u001b[0;34m[\u001b[0m\u001b[0;34m\"technical wonly\"\u001b[0m\u001b[0;34m]\u001b[0m\u001b[0;34m[\u001b[0m\u001b[0mj\u001b[0m\u001b[0;34m]\u001b[0m\u001b[0;34m=\u001b[0m\u001b[0;36m1\u001b[0m\u001b[0;34m\u001b[0m\u001b[0;34m\u001b[0m\u001b[0m\n\u001b[1;32m     11\u001b[0m     \u001b[0;32melif\u001b[0m \u001b[0mtemp\u001b[0m\u001b[0;34m[\u001b[0m\u001b[0;34m'RSI_14'\u001b[0m\u001b[0;34m]\u001b[0m\u001b[0;34m[\u001b[0m\u001b[0mj\u001b[0m\u001b[0;34m]\u001b[0m\u001b[0;34m<\u001b[0m\u001b[0;36m50\u001b[0m \u001b[0;32mand\u001b[0m \u001b[0mtemp\u001b[0m\u001b[0;34m[\u001b[0m\u001b[0;34m'+DI'\u001b[0m\u001b[0;34m]\u001b[0m\u001b[0;34m[\u001b[0m\u001b[0mj\u001b[0m\u001b[0;34m]\u001b[0m\u001b[0;34m>\u001b[0m\u001b[0mtemp\u001b[0m\u001b[0;34m[\u001b[0m\u001b[0;34m'-DI'\u001b[0m\u001b[0;34m]\u001b[0m\u001b[0;34m[\u001b[0m\u001b[0mj\u001b[0m\u001b[0;34m]\u001b[0m\u001b[0;34m:\u001b[0m\u001b[0;34m\u001b[0m\u001b[0;34m\u001b[0m\u001b[0m\n",
            "\u001b[0;32m/usr/local/lib/python3.7/dist-packages/pandas/core/series.py\u001b[0m in \u001b[0;36m__getitem__\u001b[0;34m(self, key)\u001b[0m\n\u001b[1;32m    880\u001b[0m \u001b[0;34m\u001b[0m\u001b[0m\n\u001b[1;32m    881\u001b[0m         \u001b[0;32melif\u001b[0m \u001b[0mkey_is_scalar\u001b[0m\u001b[0;34m:\u001b[0m\u001b[0;34m\u001b[0m\u001b[0;34m\u001b[0m\u001b[0m\n\u001b[0;32m--> 882\u001b[0;31m             \u001b[0;32mreturn\u001b[0m \u001b[0mself\u001b[0m\u001b[0;34m.\u001b[0m\u001b[0m_get_value\u001b[0m\u001b[0;34m(\u001b[0m\u001b[0mkey\u001b[0m\u001b[0;34m)\u001b[0m\u001b[0;34m\u001b[0m\u001b[0;34m\u001b[0m\u001b[0m\n\u001b[0m\u001b[1;32m    883\u001b[0m \u001b[0;34m\u001b[0m\u001b[0m\n\u001b[1;32m    884\u001b[0m         \u001b[0;32mif\u001b[0m \u001b[0mis_hashable\u001b[0m\u001b[0;34m(\u001b[0m\u001b[0mkey\u001b[0m\u001b[0;34m)\u001b[0m\u001b[0;34m:\u001b[0m\u001b[0;34m\u001b[0m\u001b[0;34m\u001b[0m\u001b[0m\n",
            "\u001b[0;32m/usr/local/lib/python3.7/dist-packages/pandas/core/series.py\u001b[0m in \u001b[0;36m_get_value\u001b[0;34m(self, label, takeable)\u001b[0m\n\u001b[1;32m    988\u001b[0m \u001b[0;34m\u001b[0m\u001b[0m\n\u001b[1;32m    989\u001b[0m         \u001b[0;31m# Similar to Index.get_value, but we do not fall back to positional\u001b[0m\u001b[0;34m\u001b[0m\u001b[0;34m\u001b[0m\u001b[0;34m\u001b[0m\u001b[0m\n\u001b[0;32m--> 990\u001b[0;31m         \u001b[0mloc\u001b[0m \u001b[0;34m=\u001b[0m \u001b[0mself\u001b[0m\u001b[0;34m.\u001b[0m\u001b[0mindex\u001b[0m\u001b[0;34m.\u001b[0m\u001b[0mget_loc\u001b[0m\u001b[0;34m(\u001b[0m\u001b[0mlabel\u001b[0m\u001b[0;34m)\u001b[0m\u001b[0;34m\u001b[0m\u001b[0;34m\u001b[0m\u001b[0m\n\u001b[0m\u001b[1;32m    991\u001b[0m         \u001b[0;32mreturn\u001b[0m \u001b[0mself\u001b[0m\u001b[0;34m.\u001b[0m\u001b[0mindex\u001b[0m\u001b[0;34m.\u001b[0m\u001b[0m_get_values_for_loc\u001b[0m\u001b[0;34m(\u001b[0m\u001b[0mself\u001b[0m\u001b[0;34m,\u001b[0m \u001b[0mloc\u001b[0m\u001b[0;34m,\u001b[0m \u001b[0mlabel\u001b[0m\u001b[0;34m)\u001b[0m\u001b[0;34m\u001b[0m\u001b[0;34m\u001b[0m\u001b[0m\n\u001b[1;32m    992\u001b[0m \u001b[0;34m\u001b[0m\u001b[0m\n",
            "\u001b[0;32m/usr/local/lib/python3.7/dist-packages/pandas/core/indexes/base.py\u001b[0m in \u001b[0;36mget_loc\u001b[0;34m(self, key, method, tolerance)\u001b[0m\n\u001b[1;32m   2898\u001b[0m                 \u001b[0;32mreturn\u001b[0m \u001b[0mself\u001b[0m\u001b[0;34m.\u001b[0m\u001b[0m_engine\u001b[0m\u001b[0;34m.\u001b[0m\u001b[0mget_loc\u001b[0m\u001b[0;34m(\u001b[0m\u001b[0mcasted_key\u001b[0m\u001b[0;34m)\u001b[0m\u001b[0;34m\u001b[0m\u001b[0;34m\u001b[0m\u001b[0m\n\u001b[1;32m   2899\u001b[0m             \u001b[0;32mexcept\u001b[0m \u001b[0mKeyError\u001b[0m \u001b[0;32mas\u001b[0m \u001b[0merr\u001b[0m\u001b[0;34m:\u001b[0m\u001b[0;34m\u001b[0m\u001b[0;34m\u001b[0m\u001b[0m\n\u001b[0;32m-> 2900\u001b[0;31m                 \u001b[0;32mraise\u001b[0m \u001b[0mKeyError\u001b[0m\u001b[0;34m(\u001b[0m\u001b[0mkey\u001b[0m\u001b[0;34m)\u001b[0m \u001b[0;32mfrom\u001b[0m \u001b[0merr\u001b[0m\u001b[0;34m\u001b[0m\u001b[0;34m\u001b[0m\u001b[0m\n\u001b[0m\u001b[1;32m   2901\u001b[0m \u001b[0;34m\u001b[0m\u001b[0m\n\u001b[1;32m   2902\u001b[0m         \u001b[0;32mif\u001b[0m \u001b[0mtolerance\u001b[0m \u001b[0;32mis\u001b[0m \u001b[0;32mnot\u001b[0m \u001b[0;32mNone\u001b[0m\u001b[0;34m:\u001b[0m\u001b[0;34m\u001b[0m\u001b[0;34m\u001b[0m\u001b[0m\n",
            "\u001b[0;31mKeyError\u001b[0m: 20"
          ]
        }
      ],
      "source": [
        "loss_min=1\n",
        "index=0\n",
        "for i in range(5,100):\n",
        "  temp=adx(df,i)\n",
        "  temp[\"technical wonly\"]=0.5\n",
        "  for i in range(20):\n",
        "    temp[\"technical wonly\"][i]=0.5\n",
        "  for j in range(20,25500):  \n",
        "    if (temp['RSI_14'][j]>60 and temp['+DI'][j]>temp['-DI'][j]):\n",
        "      temp[\"technical wonly\"][j]=1\n",
        "    elif temp['RSI_14'][j]<50 and temp['+DI'][j]>temp['-DI'][j]:\n",
        "      temp[\"technical wonly\"][j]=0\n",
        "  difference=temp[\"technical wonly\"]-df3['target']\n",
        "  difference=difference.abs()\n",
        "  loss=difference.mean()\n",
        "  if loss<loss_min:\n",
        "    loss_min=loss\n",
        "    index=i\n",
        "    \n",
        "\n",
        "print(loss_min)\n",
        "print(i)\n"
      ]
    },
    {
      "cell_type": "code",
      "execution_count": null,
      "metadata": {
        "colab": {
          "base_uri": "https://localhost:8080/",
          "height": 105
        },
        "id": "8YHATwVicmL7",
        "outputId": "38ef6bf9-b7c8-4979-ea6f-55b3326678e0"
      },
      "outputs": [
        {
          "data": {
            "application/vnd.google.colaboratory.intrinsic+json": {
              "type": "string"
            },
            "text/plain": [
              "\"df['RSI_indicator']=df['+DI']\\ndf2['RSI_indicator']=df2['+DI']\\ndf['DI_indicator']=df['+DI']\\nfor i in range(0,25500):\\n  df['DI_indicator']=df['+DI'][i]-df['-DI'][i]\\n  if df['RSI_7'][i]>60 and df['+DI'][i]>df['-DI'][i]:\\n    df['RSI_indicator'][i]=df['RSI_7'][i]-55\\n  else:\\n    df['RSI_indicator'][i]=0\\n  if df['RSI_7'][i]<50 and df['+DI'][i]>df['-DI'][i]:\\n    df['RSI_indicator'][i]=df['RSI_7'][i]-55\\nfor i in range(0,10316):\\n  if df2['RSI_7'][i]>60 and df2['+DI'][i]>df2['-DI'][i]:\\n    df2['RSI_indicator'][i]=1\\n  else:\\n    df2['RSI_indicator'][i]=0\\n  if df2['RSI_7'][i]<50 and df2['+DI'][i]>df2['-DI'][i]:\\n    df2['RSI_indicator'][i]=-1\""
            ]
          },
          "execution_count": 13,
          "metadata": {},
          "output_type": "execute_result"
        }
      ],
      "source": [
        "df=adx(df)\n",
        "df2=adx(df2)\n",
        "\"\"\"df['RSI_indicator']=df['+DI']\n",
        "df2['RSI_indicator']=df2['+DI']\n",
        "df['DI_indicator']=df['+DI']\n",
        "for i in range(0,25500):\n",
        "  df['DI_indicator']=df['+DI'][i]-df['-DI'][i]\n",
        "  if df['RSI_7'][i]>60 and df['+DI'][i]>df['-DI'][i]:\n",
        "    df['RSI_indicator'][i]=df['RSI_7'][i]-55\n",
        "  else:\n",
        "    df['RSI_indicator'][i]=0\n",
        "  if df['RSI_7'][i]<50 and df['+DI'][i]>df['-DI'][i]:\n",
        "    df['RSI_indicator'][i]=df['RSI_7'][i]-55\n",
        "for i in range(0,10316):\n",
        "  if df2['RSI_7'][i]>60 and df2['+DI'][i]>df2['-DI'][i]:\n",
        "    df2['RSI_indicator'][i]=1\n",
        "  else:\n",
        "    df2['RSI_indicator'][i]=0\n",
        "  if df2['RSI_7'][i]<50 and df2['+DI'][i]>df2['-DI'][i]:\n",
        "    df2['RSI_indicator'][i]=-1\"\"\""
      ]
    },
    {
      "cell_type": "code",
      "execution_count": null,
      "metadata": {
        "colab": {
          "base_uri": "https://localhost:8080/"
        },
        "id": "3wVahVHhS2pg",
        "outputId": "d9551b4f-b5cf-403f-8ed8-048b3f6135d7"
      },
      "outputs": [
        {
          "data": {
            "text/plain": [
              "Index(['Id', 'date', 'open', 'high', 'low', 'close', 'day', 'week', 'SMA_7',\n",
              "       'SMA_14', 'SMA_21', 'RSI_7', 'RSI_14', 'RSI_21', 'ATR_14', 'bb_mavg',\n",
              "       'bb_hband', 'bb_lband', 'MA_Fast', 'MA_Slow', 'MACD', 'Signal', 'H-L',\n",
              "       'H-PC', 'L-PC', 'TR', '+DM', '-DM', '+DMMA', '-DMMA', 'TRMA', '+DI',\n",
              "       '-DI', 'DX', 'ADX'],\n",
              "      dtype='object')"
            ]
          },
          "execution_count": 14,
          "metadata": {},
          "output_type": "execute_result"
        }
      ],
      "source": [
        "df.columns"
      ]
    },
    {
      "cell_type": "code",
      "execution_count": null,
      "metadata": {
        "id": "chvRDVh3FQQm"
      },
      "outputs": [],
      "source": [
        "df['diff']=df['SMA_7']-df['SMA_21']"
      ]
    },
    {
      "cell_type": "code",
      "execution_count": null,
      "metadata": {
        "colab": {
          "base_uri": "https://localhost:8080/",
          "height": 443
        },
        "id": "I_6FDG5tdk0a",
        "outputId": "55c578b4-a057-49f1-d4a4-51fce67d5e30"
      },
      "outputs": [
        {
          "data": {
            "text/html": [
              "<div>\n",
              "<style scoped>\n",
              "    .dataframe tbody tr th:only-of-type {\n",
              "        vertical-align: middle;\n",
              "    }\n",
              "\n",
              "    .dataframe tbody tr th {\n",
              "        vertical-align: top;\n",
              "    }\n",
              "\n",
              "    .dataframe thead th {\n",
              "        text-align: right;\n",
              "    }\n",
              "</style>\n",
              "<table border=\"1\" class=\"dataframe\">\n",
              "  <thead>\n",
              "    <tr style=\"text-align: right;\">\n",
              "      <th></th>\n",
              "      <th>RSI_14</th>\n",
              "      <th>RSI_21</th>\n",
              "      <th>diff</th>\n",
              "      <th>ATR_14</th>\n",
              "      <th>MACD</th>\n",
              "      <th>Signal</th>\n",
              "      <th>H-L</th>\n",
              "      <th>H-PC</th>\n",
              "      <th>L-PC</th>\n",
              "      <th>TR</th>\n",
              "      <th>+DM</th>\n",
              "      <th>-DM</th>\n",
              "      <th>+DMMA</th>\n",
              "      <th>-DMMA</th>\n",
              "      <th>TRMA</th>\n",
              "      <th>+DI</th>\n",
              "      <th>-DI</th>\n",
              "      <th>DX</th>\n",
              "      <th>ADX</th>\n",
              "    </tr>\n",
              "  </thead>\n",
              "  <tbody>\n",
              "    <tr>\n",
              "      <th>75</th>\n",
              "      <td>77.327807</td>\n",
              "      <td>71.027528</td>\n",
              "      <td>0.001924</td>\n",
              "      <td>0.003555</td>\n",
              "      <td>0.000507</td>\n",
              "      <td>-0.001038</td>\n",
              "      <td>0.008988</td>\n",
              "      <td>0.020613</td>\n",
              "      <td>0.011625</td>\n",
              "      <td>0.020613</td>\n",
              "      <td>0.020300</td>\n",
              "      <td>0.000000</td>\n",
              "      <td>0.002614</td>\n",
              "      <td>0.000560</td>\n",
              "      <td>0.004082</td>\n",
              "      <td>64.036903</td>\n",
              "      <td>13.713549</td>\n",
              "      <td>64.724195</td>\n",
              "      <td>32.073403</td>\n",
              "    </tr>\n",
              "    <tr>\n",
              "      <th>76</th>\n",
              "      <td>75.992460</td>\n",
              "      <td>70.058460</td>\n",
              "      <td>0.003608</td>\n",
              "      <td>0.003584</td>\n",
              "      <td>0.001643</td>\n",
              "      <td>-0.000502</td>\n",
              "      <td>0.003962</td>\n",
              "      <td>0.002644</td>\n",
              "      <td>0.001319</td>\n",
              "      <td>0.003962</td>\n",
              "      <td>0.000000</td>\n",
              "      <td>0.000000</td>\n",
              "      <td>0.002362</td>\n",
              "      <td>0.000506</td>\n",
              "      <td>0.004070</td>\n",
              "      <td>58.026076</td>\n",
              "      <td>12.426326</td>\n",
              "      <td>64.724195</td>\n",
              "      <td>35.492560</td>\n",
              "    </tr>\n",
              "    <tr>\n",
              "      <th>77</th>\n",
              "      <td>76.995957</td>\n",
              "      <td>71.031892</td>\n",
              "      <td>0.005357</td>\n",
              "      <td>0.003493</td>\n",
              "      <td>0.002608</td>\n",
              "      <td>0.000120</td>\n",
              "      <td>0.002312</td>\n",
              "      <td>0.001412</td>\n",
              "      <td>0.000900</td>\n",
              "      <td>0.002312</td>\n",
              "      <td>0.000000</td>\n",
              "      <td>0.000088</td>\n",
              "      <td>0.002134</td>\n",
              "      <td>0.000465</td>\n",
              "      <td>0.003901</td>\n",
              "      <td>54.716101</td>\n",
              "      <td>11.933524</td>\n",
              "      <td>64.190274</td>\n",
              "      <td>38.469531</td>\n",
              "    </tr>\n",
              "    <tr>\n",
              "      <th>78</th>\n",
              "      <td>72.029972</td>\n",
              "      <td>67.502655</td>\n",
              "      <td>0.007269</td>\n",
              "      <td>0.003440</td>\n",
              "      <td>0.003190</td>\n",
              "      <td>0.000734</td>\n",
              "      <td>0.002744</td>\n",
              "      <td>0.000488</td>\n",
              "      <td>0.002256</td>\n",
              "      <td>0.002744</td>\n",
              "      <td>0.000262</td>\n",
              "      <td>0.000000</td>\n",
              "      <td>0.001954</td>\n",
              "      <td>0.000421</td>\n",
              "      <td>0.003789</td>\n",
              "      <td>51.572792</td>\n",
              "      <td>11.102622</td>\n",
              "      <td>64.571046</td>\n",
              "      <td>41.154370</td>\n",
              "    </tr>\n",
              "    <tr>\n",
              "      <th>79</th>\n",
              "      <td>72.116493</td>\n",
              "      <td>67.578217</td>\n",
              "      <td>0.009147</td>\n",
              "      <td>0.003291</td>\n",
              "      <td>0.003617</td>\n",
              "      <td>0.001311</td>\n",
              "      <td>0.001363</td>\n",
              "      <td>0.000631</td>\n",
              "      <td>0.000731</td>\n",
              "      <td>0.001363</td>\n",
              "      <td>0.000000</td>\n",
              "      <td>0.000294</td>\n",
              "      <td>0.001766</td>\n",
              "      <td>0.000409</td>\n",
              "      <td>0.003556</td>\n",
              "      <td>49.676778</td>\n",
              "      <td>11.488424</td>\n",
              "      <td>62.434771</td>\n",
              "      <td>43.326742</td>\n",
              "    </tr>\n",
              "    <tr>\n",
              "      <th>...</th>\n",
              "      <td>...</td>\n",
              "      <td>...</td>\n",
              "      <td>...</td>\n",
              "      <td>...</td>\n",
              "      <td>...</td>\n",
              "      <td>...</td>\n",
              "      <td>...</td>\n",
              "      <td>...</td>\n",
              "      <td>...</td>\n",
              "      <td>...</td>\n",
              "      <td>...</td>\n",
              "      <td>...</td>\n",
              "      <td>...</td>\n",
              "      <td>...</td>\n",
              "      <td>...</td>\n",
              "      <td>...</td>\n",
              "      <td>...</td>\n",
              "      <td>...</td>\n",
              "      <td>...</td>\n",
              "    </tr>\n",
              "    <tr>\n",
              "      <th>25495</th>\n",
              "      <td>53.338774</td>\n",
              "      <td>51.661272</td>\n",
              "      <td>0.001938</td>\n",
              "      <td>0.003345</td>\n",
              "      <td>-0.000450</td>\n",
              "      <td>-0.001063</td>\n",
              "      <td>0.001213</td>\n",
              "      <td>0.001144</td>\n",
              "      <td>0.000069</td>\n",
              "      <td>0.001213</td>\n",
              "      <td>0.001050</td>\n",
              "      <td>0.000000</td>\n",
              "      <td>0.000924</td>\n",
              "      <td>0.000706</td>\n",
              "      <td>0.003231</td>\n",
              "      <td>28.607173</td>\n",
              "      <td>21.860265</td>\n",
              "      <td>13.368835</td>\n",
              "      <td>19.592795</td>\n",
              "    </tr>\n",
              "    <tr>\n",
              "      <th>25496</th>\n",
              "      <td>50.340798</td>\n",
              "      <td>49.789358</td>\n",
              "      <td>0.002533</td>\n",
              "      <td>0.003262</td>\n",
              "      <td>-0.000365</td>\n",
              "      <td>-0.000923</td>\n",
              "      <td>0.002181</td>\n",
              "      <td>0.000681</td>\n",
              "      <td>0.001500</td>\n",
              "      <td>0.002181</td>\n",
              "      <td>0.000000</td>\n",
              "      <td>0.000669</td>\n",
              "      <td>0.000836</td>\n",
              "      <td>0.000703</td>\n",
              "      <td>0.003131</td>\n",
              "      <td>26.709170</td>\n",
              "      <td>22.444037</td>\n",
              "      <td>8.677223</td>\n",
              "      <td>18.553216</td>\n",
              "    </tr>\n",
              "    <tr>\n",
              "      <th>25497</th>\n",
              "      <td>49.597282</td>\n",
              "      <td>49.324591</td>\n",
              "      <td>0.002079</td>\n",
              "      <td>0.003099</td>\n",
              "      <td>-0.000320</td>\n",
              "      <td>-0.000803</td>\n",
              "      <td>0.000988</td>\n",
              "      <td>0.000631</td>\n",
              "      <td>0.000356</td>\n",
              "      <td>0.000988</td>\n",
              "      <td>0.000000</td>\n",
              "      <td>0.000194</td>\n",
              "      <td>0.000757</td>\n",
              "      <td>0.000654</td>\n",
              "      <td>0.002927</td>\n",
              "      <td>25.850956</td>\n",
              "      <td>22.353303</td>\n",
              "      <td>7.255899</td>\n",
              "      <td>17.477281</td>\n",
              "    </tr>\n",
              "    <tr>\n",
              "      <th>25498</th>\n",
              "      <td>50.488807</td>\n",
              "      <td>49.880711</td>\n",
              "      <td>0.002063</td>\n",
              "      <td>0.002942</td>\n",
              "      <td>-0.000251</td>\n",
              "      <td>-0.000692</td>\n",
              "      <td>0.000894</td>\n",
              "      <td>0.000869</td>\n",
              "      <td>0.000025</td>\n",
              "      <td>0.000894</td>\n",
              "      <td>0.000000</td>\n",
              "      <td>0.000000</td>\n",
              "      <td>0.000685</td>\n",
              "      <td>0.000592</td>\n",
              "      <td>0.002733</td>\n",
              "      <td>25.045917</td>\n",
              "      <td>21.657187</td>\n",
              "      <td>7.255899</td>\n",
              "      <td>16.503816</td>\n",
              "    </tr>\n",
              "    <tr>\n",
              "      <th>25499</th>\n",
              "      <td>50.676715</td>\n",
              "      <td>49.995949</td>\n",
              "      <td>0.001876</td>\n",
              "      <td>0.002788</td>\n",
              "      <td>-0.000189</td>\n",
              "      <td>-0.000592</td>\n",
              "      <td>0.000794</td>\n",
              "      <td>0.000563</td>\n",
              "      <td>0.000231</td>\n",
              "      <td>0.000794</td>\n",
              "      <td>0.000069</td>\n",
              "      <td>0.000000</td>\n",
              "      <td>0.000626</td>\n",
              "      <td>0.000536</td>\n",
              "      <td>0.002549</td>\n",
              "      <td>24.559924</td>\n",
              "      <td>21.014796</td>\n",
              "      <td>7.778714</td>\n",
              "      <td>15.672854</td>\n",
              "    </tr>\n",
              "  </tbody>\n",
              "</table>\n",
              "<p>25425 rows × 19 columns</p>\n",
              "</div>"
            ],
            "text/plain": [
              "          RSI_14     RSI_21      diff  ...        -DI         DX        ADX\n",
              "75     77.327807  71.027528  0.001924  ...  13.713549  64.724195  32.073403\n",
              "76     75.992460  70.058460  0.003608  ...  12.426326  64.724195  35.492560\n",
              "77     76.995957  71.031892  0.005357  ...  11.933524  64.190274  38.469531\n",
              "78     72.029972  67.502655  0.007269  ...  11.102622  64.571046  41.154370\n",
              "79     72.116493  67.578217  0.009147  ...  11.488424  62.434771  43.326742\n",
              "...          ...        ...       ...  ...        ...        ...        ...\n",
              "25495  53.338774  51.661272  0.001938  ...  21.860265  13.368835  19.592795\n",
              "25496  50.340798  49.789358  0.002533  ...  22.444037   8.677223  18.553216\n",
              "25497  49.597282  49.324591  0.002079  ...  22.353303   7.255899  17.477281\n",
              "25498  50.488807  49.880711  0.002063  ...  21.657187   7.255899  16.503816\n",
              "25499  50.676715  49.995949  0.001876  ...  21.014796   7.778714  15.672854\n",
              "\n",
              "[25425 rows x 19 columns]"
            ]
          },
          "execution_count": 16,
          "metadata": {},
          "output_type": "execute_result"
        }
      ],
      "source": [
        "df_train=df.loc[75:,[ 'RSI_14', 'RSI_21','diff', 'ATR_14',  'MACD', 'Signal', 'H-L',\n",
        "       'H-PC', 'L-PC', 'TR', '+DM', '-DM', '+DMMA', '-DMMA', 'TRMA', '+DI',\n",
        "       '-DI', 'DX', 'ADX']]\n",
        "df_train\n",
        "df_label=df3.loc[75:,['target']]\n",
        "df_train"
      ]
    },
    {
      "cell_type": "code",
      "execution_count": null,
      "metadata": {
        "colab": {
          "base_uri": "https://localhost:8080/"
        },
        "id": "LmVoyc24HL6A",
        "outputId": "c3cefa50-db16-4b32-bbd4-a0889aa983d3"
      },
      "outputs": [
        {
          "data": {
            "text/plain": [
              "(25425, 19)"
            ]
          },
          "execution_count": 17,
          "metadata": {},
          "output_type": "execute_result"
        }
      ],
      "source": [
        "df_train.shape"
      ]
    },
    {
      "cell_type": "code",
      "execution_count": null,
      "metadata": {
        "colab": {
          "base_uri": "https://localhost:8080/"
        },
        "id": "0vpBmlABeGI6",
        "outputId": "2efff555-f5f9-47e6-a50e-3fcfcf54a81c"
      },
      "outputs": [
        {
          "name": "stdout",
          "output_type": "stream",
          "text": [
            "WARNING:tensorflow:Layer lstm will not use cuDNN kernels since it doesn't meet the criteria. It will use a generic GPU kernel as fallback when running on GPU.\n",
            "Model: \"sequential\"\n",
            "_________________________________________________________________\n",
            " Layer (type)                Output Shape              Param #   \n",
            "=================================================================\n",
            " lstm (LSTM)                 (None, 256)               264192    \n",
            "                                                                 \n",
            " dense (Dense)               (None, 256)               65792     \n",
            "                                                                 \n",
            " dense_1 (Dense)             (None, 128)               32896     \n",
            "                                                                 \n",
            " dense_2 (Dense)             (None, 128)               16512     \n",
            "                                                                 \n",
            " dense_3 (Dense)             (None, 1)                 129       \n",
            "                                                                 \n",
            "=================================================================\n",
            "Total params: 379,521\n",
            "Trainable params: 379,521\n",
            "Non-trainable params: 0\n",
            "_________________________________________________________________\n"
          ]
        }
      ],
      "source": [
        "model = Sequential([LSTM(256,input_shape=(19,1),activation='relu'),Dense(256,activation='relu'),Dense(128,activation='relu'),Dense(128,activation='relu'),Dense(1)])\n",
        "\n",
        "model.summary()\n",
        "\n",
        "model.compile(loss='mean_absolute_error', optimizer='adam',metrics=['mean_squared_error','mean_absolute_percentage_error'])"
      ]
    },
    {
      "cell_type": "code",
      "execution_count": null,
      "metadata": {
        "colab": {
          "background_save": true,
          "base_uri": "https://localhost:8080/"
        },
        "id": "gp_PwjY6HRln",
        "outputId": "0236b844-6f54-4553-92e8-943c4f54e20a"
      },
      "outputs": [
        {
          "name": "stdout",
          "output_type": "stream",
          "text": [
            "Epoch 1/20\n",
            "795/795 [==============================] - 80s 95ms/step - loss: 0.5027 - mean_squared_error: 0.3168 - mean_absolute_percentage_error: 256229312.0000\n",
            "Epoch 2/20\n",
            "795/795 [==============================] - 63s 80ms/step - loss: 0.4992 - mean_squared_error: 0.2915 - mean_absolute_percentage_error: 299425760.0000\n",
            "Epoch 3/20\n",
            "795/795 [==============================] - 65s 82ms/step - loss: 0.4949 - mean_squared_error: 0.3614 - mean_absolute_percentage_error: 404063072.0000\n",
            "Epoch 4/20\n",
            "795/795 [==============================] - 64s 81ms/step - loss: 0.4927 - mean_squared_error: 0.3995 - mean_absolute_percentage_error: 434920320.0000\n",
            "Epoch 5/20\n",
            "795/795 [==============================] - 58s 73ms/step - loss: 0.4923 - mean_squared_error: 0.4193 - mean_absolute_percentage_error: 449731840.0000\n",
            "Epoch 6/20\n",
            "795/795 [==============================] - 66s 83ms/step - loss: 0.4923 - mean_squared_error: 0.4226 - mean_absolute_percentage_error: 450842144.0000\n",
            "Epoch 7/20\n",
            "795/795 [==============================] - 58s 73ms/step - loss: 0.4917 - mean_squared_error: 0.4360 - mean_absolute_percentage_error: 460261568.0000\n",
            "Epoch 8/20\n",
            "795/795 [==============================] - 56s 71ms/step - loss: 0.4915 - mean_squared_error: 0.4154 - mean_absolute_percentage_error: 446157920.0000\n",
            "Epoch 9/20\n",
            "795/795 [==============================] - 53s 67ms/step - loss: 0.4910 - mean_squared_error: 0.3957 - mean_absolute_percentage_error: 427095296.0000\n",
            "Epoch 10/20\n",
            "795/795 [==============================] - 53s 66ms/step - loss: 0.4910 - mean_squared_error: 0.4445 - mean_absolute_percentage_error: 465169376.0000\n",
            "Epoch 11/20\n",
            "795/795 [==============================] - 51s 64ms/step - loss: 0.4915 - mean_squared_error: 0.4211 - mean_absolute_percentage_error: 451105440.0000\n",
            "Epoch 12/20\n",
            "795/795 [==============================] - 55s 70ms/step - loss: 0.4914 - mean_squared_error: 0.4444 - mean_absolute_percentage_error: 465152800.0000\n",
            "Epoch 13/20\n",
            "795/795 [==============================] - 56s 70ms/step - loss: 0.4908 - mean_squared_error: 0.4613 - mean_absolute_percentage_error: 474978624.0000\n",
            "Epoch 14/20\n",
            "795/795 [==============================] - 55s 69ms/step - loss: 0.4908 - mean_squared_error: 0.4641 - mean_absolute_percentage_error: 476501504.0000\n",
            "Epoch 15/20\n",
            "795/795 [==============================] - 52s 65ms/step - loss: 0.4912 - mean_squared_error: 0.4457 - mean_absolute_percentage_error: 466130240.0000\n",
            "Epoch 16/20\n",
            "795/795 [==============================] - 55s 70ms/step - loss: 0.4908 - mean_squared_error: 0.4594 - mean_absolute_percentage_error: 473914400.0000\n",
            "Epoch 17/20\n",
            "795/795 [==============================] - 55s 70ms/step - loss: 0.4911 - mean_squared_error: 0.4460 - mean_absolute_percentage_error: 465567424.0000\n",
            "Epoch 18/20\n",
            "795/795 [==============================] - 57s 72ms/step - loss: 0.4909 - mean_squared_error: 0.4506 - mean_absolute_percentage_error: 468893440.0000\n",
            "Epoch 19/20\n",
            "795/795 [==============================] - 64s 81ms/step - loss: 0.4909 - mean_squared_error: 0.4405 - mean_absolute_percentage_error: 462861952.0000\n",
            "Epoch 20/20\n",
            "795/795 [==============================] - 60s 76ms/step - loss: 0.4915 - mean_squared_error: 0.4314 - mean_absolute_percentage_error: 455970912.0000\n"
          ]
        },
        {
          "data": {
            "text/plain": [
              "<keras.callbacks.History at 0x7fdd16299fd0>"
            ]
          },
          "execution_count": null,
          "metadata": {},
          "output_type": "execute_result"
        }
      ],
      "source": [
        "model.fit(df_train,df_label,epochs=20)"
      ]
    },
    {
      "cell_type": "code",
      "execution_count": null,
      "metadata": {
        "colab": {
          "base_uri": "https://localhost:8080/"
        },
        "id": "iungH1UceQS6",
        "outputId": "60fce793-bf4d-4384-e163-021d4e96f693"
      },
      "outputs": [
        {
          "data": {
            "text/plain": [
              "Index(['Id', 'date', 'open', 'high', 'low', 'close', 'day', 'week', 'SMA_7',\n",
              "       'SMA_14', 'SMA_21', 'RSI_7', 'RSI_14', 'RSI_21', 'ATR_14', 'bb_mavg',\n",
              "       'bb_hband', 'bb_lband', 'H-L', 'H-PC', 'L-PC', 'TR', '+DM', '-DM',\n",
              "       '+DMMA', '-DMMA', 'TRMA', '+DI', '-DI', 'DX', 'ADX', 'RSI_indicator',\n",
              "       'DI_indicator'],\n",
              "      dtype='object')"
            ]
          },
          "execution_count": 48,
          "metadata": {},
          "output_type": "execute_result"
        }
      ],
      "source": [
        "df.columns"
      ]
    },
    {
      "cell_type": "code",
      "execution_count": null,
      "metadata": {
        "colab": {
          "base_uri": "https://localhost:8080/"
        },
        "id": "bOWTKpFqebbi",
        "outputId": "34f425ee-4aae-4559-f6ce-61ef5ae6bceb"
      },
      "outputs": [
        {
          "data": {
            "text/plain": [
              "array([[1],\n",
              "       [0],\n",
              "       [1],\n",
              "       ...,\n",
              "       [1],\n",
              "       [0],\n",
              "       [0]])"
            ]
          },
          "execution_count": 81,
          "metadata": {},
          "output_type": "execute_result"
        }
      ],
      "source": [
        "label_train=df3.loc[39:25500,['target']]\n",
        "label_train=label_train.to_numpy()\n",
        "label_train"
      ]
    },
    {
      "cell_type": "code",
      "execution_count": null,
      "metadata": {
        "colab": {
          "base_uri": "https://localhost:8080/",
          "height": 165
        },
        "id": "HuoqUsJXBhyY",
        "outputId": "30c31a02-4539-4e92-f75f-1c7683f0e1da"
      },
      "outputs": [
        {
          "ename": "AttributeError",
          "evalue": "ignored",
          "output_type": "error",
          "traceback": [
            "\u001b[0;31m---------------------------------------------------------------------------\u001b[0m",
            "\u001b[0;31mAttributeError\u001b[0m                            Traceback (most recent call last)",
            "\u001b[0;32m<ipython-input-40-116a6524557b>\u001b[0m in \u001b[0;36m<module>\u001b[0;34m()\u001b[0m\n\u001b[0;32m----> 1\u001b[0;31m \u001b[0mdf_train\u001b[0m\u001b[0;34m.\u001b[0m\u001b[0mcolumns\u001b[0m\u001b[0;34m\u001b[0m\u001b[0;34m\u001b[0m\u001b[0m\n\u001b[0m",
            "\u001b[0;31mAttributeError\u001b[0m: 'numpy.ndarray' object has no attribute 'columns'"
          ]
        }
      ],
      "source": [
        ""
      ]
    },
    {
      "cell_type": "code",
      "execution_count": null,
      "metadata": {
        "colab": {
          "base_uri": "https://localhost:8080/",
          "height": 443
        },
        "id": "BQUI9-UhdTRp",
        "outputId": "8c4f71bd-831c-42f9-9f95-fea69be7046b"
      },
      "outputs": [
        {
          "data": {
            "text/html": [
              "<div>\n",
              "<style scoped>\n",
              "    .dataframe tbody tr th:only-of-type {\n",
              "        vertical-align: middle;\n",
              "    }\n",
              "\n",
              "    .dataframe tbody tr th {\n",
              "        vertical-align: top;\n",
              "    }\n",
              "\n",
              "    .dataframe thead th {\n",
              "        text-align: right;\n",
              "    }\n",
              "</style>\n",
              "<table border=\"1\" class=\"dataframe\">\n",
              "  <thead>\n",
              "    <tr style=\"text-align: right;\">\n",
              "      <th></th>\n",
              "      <th>RSI_7</th>\n",
              "      <th>RSI_14</th>\n",
              "      <th>RSI_21</th>\n",
              "      <th>ATR_14</th>\n",
              "      <th>H-L</th>\n",
              "      <th>H-PC</th>\n",
              "      <th>L-PC</th>\n",
              "      <th>TR</th>\n",
              "      <th>+DM</th>\n",
              "      <th>-DM</th>\n",
              "      <th>+DMMA</th>\n",
              "      <th>-DMMA</th>\n",
              "      <th>TRMA</th>\n",
              "      <th>+DI</th>\n",
              "      <th>-DI</th>\n",
              "      <th>DX</th>\n",
              "      <th>ADX</th>\n",
              "      <th>RSI_indicator</th>\n",
              "      <th>DI_indicator</th>\n",
              "    </tr>\n",
              "  </thead>\n",
              "  <tbody>\n",
              "    <tr>\n",
              "      <th>39</th>\n",
              "      <td>70.878090</td>\n",
              "      <td>61.404620</td>\n",
              "      <td>57.528386</td>\n",
              "      <td>0.001594</td>\n",
              "      <td>0.000881</td>\n",
              "      <td>0.000287</td>\n",
              "      <td>0.000594</td>\n",
              "      <td>0.000881</td>\n",
              "      <td>0.000000</td>\n",
              "      <td>0.000244</td>\n",
              "      <td>0.000516</td>\n",
              "      <td>0.000263</td>\n",
              "      <td>0.001471</td>\n",
              "      <td>35.117559</td>\n",
              "      <td>17.854571</td>\n",
              "      <td>32.588813</td>\n",
              "      <td>19.807192</td>\n",
              "      <td>15.878090</td>\n",
              "      <td>22.711733</td>\n",
              "    </tr>\n",
              "    <tr>\n",
              "      <th>40</th>\n",
              "      <td>47.521891</td>\n",
              "      <td>52.447363</td>\n",
              "      <td>52.623022</td>\n",
              "      <td>0.001892</td>\n",
              "      <td>0.005769</td>\n",
              "      <td>0.000400</td>\n",
              "      <td>0.005369</td>\n",
              "      <td>0.005769</td>\n",
              "      <td>0.000000</td>\n",
              "      <td>0.004894</td>\n",
              "      <td>0.000466</td>\n",
              "      <td>0.000711</td>\n",
              "      <td>0.001888</td>\n",
              "      <td>24.710484</td>\n",
              "      <td>37.670200</td>\n",
              "      <td>20.775208</td>\n",
              "      <td>19.912223</td>\n",
              "      <td>0.000000</td>\n",
              "      <td>22.711733</td>\n",
              "    </tr>\n",
              "    <tr>\n",
              "      <th>41</th>\n",
              "      <td>55.361670</td>\n",
              "      <td>55.631504</td>\n",
              "      <td>54.484659</td>\n",
              "      <td>0.001866</td>\n",
              "      <td>0.001531</td>\n",
              "      <td>0.001413</td>\n",
              "      <td>0.000119</td>\n",
              "      <td>0.001531</td>\n",
              "      <td>0.000000</td>\n",
              "      <td>0.000000</td>\n",
              "      <td>0.000421</td>\n",
              "      <td>0.000642</td>\n",
              "      <td>0.001853</td>\n",
              "      <td>22.737001</td>\n",
              "      <td>34.661700</td>\n",
              "      <td>20.775208</td>\n",
              "      <td>20.004633</td>\n",
              "      <td>0.000000</td>\n",
              "      <td>22.711733</td>\n",
              "    </tr>\n",
              "    <tr>\n",
              "      <th>42</th>\n",
              "      <td>44.989121</td>\n",
              "      <td>50.786886</td>\n",
              "      <td>51.664862</td>\n",
              "      <td>0.001869</td>\n",
              "      <td>0.001900</td>\n",
              "      <td>0.000069</td>\n",
              "      <td>0.001831</td>\n",
              "      <td>0.001900</td>\n",
              "      <td>0.000000</td>\n",
              "      <td>0.000919</td>\n",
              "      <td>0.000381</td>\n",
              "      <td>0.000669</td>\n",
              "      <td>0.001858</td>\n",
              "      <td>20.491672</td>\n",
              "      <td>36.013799</td>\n",
              "      <td>27.470130</td>\n",
              "      <td>20.794691</td>\n",
              "      <td>0.000000</td>\n",
              "      <td>22.711733</td>\n",
              "    </tr>\n",
              "    <tr>\n",
              "      <th>43</th>\n",
              "      <td>56.257937</td>\n",
              "      <td>55.685012</td>\n",
              "      <td>54.574183</td>\n",
              "      <td>0.001849</td>\n",
              "      <td>0.001587</td>\n",
              "      <td>0.001294</td>\n",
              "      <td>0.000294</td>\n",
              "      <td>0.001587</td>\n",
              "      <td>0.000175</td>\n",
              "      <td>0.000000</td>\n",
              "      <td>0.000361</td>\n",
              "      <td>0.000604</td>\n",
              "      <td>0.001831</td>\n",
              "      <td>19.700783</td>\n",
              "      <td>33.004701</td>\n",
              "      <td>25.241998</td>\n",
              "      <td>21.260408</td>\n",
              "      <td>0.000000</td>\n",
              "      <td>22.711733</td>\n",
              "    </tr>\n",
              "    <tr>\n",
              "      <th>...</th>\n",
              "      <td>...</td>\n",
              "      <td>...</td>\n",
              "      <td>...</td>\n",
              "      <td>...</td>\n",
              "      <td>...</td>\n",
              "      <td>...</td>\n",
              "      <td>...</td>\n",
              "      <td>...</td>\n",
              "      <td>...</td>\n",
              "      <td>...</td>\n",
              "      <td>...</td>\n",
              "      <td>...</td>\n",
              "      <td>...</td>\n",
              "      <td>...</td>\n",
              "      <td>...</td>\n",
              "      <td>...</td>\n",
              "      <td>...</td>\n",
              "      <td>...</td>\n",
              "      <td>...</td>\n",
              "    </tr>\n",
              "    <tr>\n",
              "      <th>10312</th>\n",
              "      <td>57.562220</td>\n",
              "      <td>51.643923</td>\n",
              "      <td>48.979101</td>\n",
              "      <td>0.003817</td>\n",
              "      <td>0.003119</td>\n",
              "      <td>0.002625</td>\n",
              "      <td>0.000494</td>\n",
              "      <td>0.003119</td>\n",
              "      <td>0.002238</td>\n",
              "      <td>0.000000</td>\n",
              "      <td>0.000829</td>\n",
              "      <td>0.000737</td>\n",
              "      <td>0.003633</td>\n",
              "      <td>22.806490</td>\n",
              "      <td>20.281514</td>\n",
              "      <td>5.860046</td>\n",
              "      <td>15.158616</td>\n",
              "      <td>0.000000</td>\n",
              "      <td>22.711733</td>\n",
              "    </tr>\n",
              "    <tr>\n",
              "      <th>10313</th>\n",
              "      <td>73.807565</td>\n",
              "      <td>59.775830</td>\n",
              "      <td>54.178170</td>\n",
              "      <td>0.003962</td>\n",
              "      <td>0.005844</td>\n",
              "      <td>0.005406</td>\n",
              "      <td>0.000437</td>\n",
              "      <td>0.005844</td>\n",
              "      <td>0.003087</td>\n",
              "      <td>0.000000</td>\n",
              "      <td>0.001044</td>\n",
              "      <td>0.000667</td>\n",
              "      <td>0.003844</td>\n",
              "      <td>27.154205</td>\n",
              "      <td>17.344954</td>\n",
              "      <td>22.043675</td>\n",
              "      <td>15.814336</td>\n",
              "      <td>18.807565</td>\n",
              "      <td>22.711733</td>\n",
              "    </tr>\n",
              "    <tr>\n",
              "      <th>10314</th>\n",
              "      <td>86.667797</td>\n",
              "      <td>71.085792</td>\n",
              "      <td>62.779617</td>\n",
              "      <td>0.004281</td>\n",
              "      <td>0.008419</td>\n",
              "      <td>0.008319</td>\n",
              "      <td>0.000100</td>\n",
              "      <td>0.008419</td>\n",
              "      <td>0.006275</td>\n",
              "      <td>0.000000</td>\n",
              "      <td>0.001542</td>\n",
              "      <td>0.000603</td>\n",
              "      <td>0.004280</td>\n",
              "      <td>36.031350</td>\n",
              "      <td>14.095317</td>\n",
              "      <td>43.761205</td>\n",
              "      <td>18.475942</td>\n",
              "      <td>31.667797</td>\n",
              "      <td>22.711733</td>\n",
              "    </tr>\n",
              "    <tr>\n",
              "      <th>10315</th>\n",
              "      <td>87.693093</td>\n",
              "      <td>72.305438</td>\n",
              "      <td>63.816847</td>\n",
              "      <td>0.004247</td>\n",
              "      <td>0.003812</td>\n",
              "      <td>0.002238</td>\n",
              "      <td>0.001575</td>\n",
              "      <td>0.003812</td>\n",
              "      <td>0.001181</td>\n",
              "      <td>0.000000</td>\n",
              "      <td>0.001508</td>\n",
              "      <td>0.000546</td>\n",
              "      <td>0.004235</td>\n",
              "      <td>35.598579</td>\n",
              "      <td>12.886845</td>\n",
              "      <td>46.842393</td>\n",
              "      <td>21.177509</td>\n",
              "      <td>32.693093</td>\n",
              "      <td>22.711733</td>\n",
              "    </tr>\n",
              "    <tr>\n",
              "      <th>10316</th>\n",
              "      <td>81.065382</td>\n",
              "      <td>69.431371</td>\n",
              "      <td>62.159456</td>\n",
              "      <td>0.004125</td>\n",
              "      <td>0.002475</td>\n",
              "      <td>0.000056</td>\n",
              "      <td>0.002531</td>\n",
              "      <td>0.002531</td>\n",
              "      <td>0.000000</td>\n",
              "      <td>0.000000</td>\n",
              "      <td>0.001364</td>\n",
              "      <td>0.000494</td>\n",
              "      <td>0.004073</td>\n",
              "      <td>33.491472</td>\n",
              "      <td>12.124063</td>\n",
              "      <td>46.842393</td>\n",
              "      <td>23.621784</td>\n",
              "      <td>33.491472</td>\n",
              "      <td>22.711733</td>\n",
              "    </tr>\n",
              "  </tbody>\n",
              "</table>\n",
              "<p>10278 rows × 19 columns</p>\n",
              "</div>"
            ],
            "text/plain": [
              "           RSI_7     RSI_14     RSI_21  ...        ADX  RSI_indicator  DI_indicator\n",
              "39     70.878090  61.404620  57.528386  ...  19.807192      15.878090     22.711733\n",
              "40     47.521891  52.447363  52.623022  ...  19.912223       0.000000     22.711733\n",
              "41     55.361670  55.631504  54.484659  ...  20.004633       0.000000     22.711733\n",
              "42     44.989121  50.786886  51.664862  ...  20.794691       0.000000     22.711733\n",
              "43     56.257937  55.685012  54.574183  ...  21.260408       0.000000     22.711733\n",
              "...          ...        ...        ...  ...        ...            ...           ...\n",
              "10312  57.562220  51.643923  48.979101  ...  15.158616       0.000000     22.711733\n",
              "10313  73.807565  59.775830  54.178170  ...  15.814336      18.807565     22.711733\n",
              "10314  86.667797  71.085792  62.779617  ...  18.475942      31.667797     22.711733\n",
              "10315  87.693093  72.305438  63.816847  ...  21.177509      32.693093     22.711733\n",
              "10316  81.065382  69.431371  62.159456  ...  23.621784      33.491472     22.711733\n",
              "\n",
              "[10278 rows x 19 columns]"
            ]
          },
          "execution_count": 34,
          "metadata": {},
          "output_type": "execute_result"
        }
      ],
      "source": [
        "df_train=df.loc[39:10317,[\n",
        "       'RSI_7', 'RSI_14', 'RSI_21', 'ATR_14',  'H-L', 'H-PC', 'L-PC', 'TR', '+DM', '-DM',\n",
        "       '+DMMA', '-DMMA', 'TRMA', '+DI', '-DI', 'DX', 'ADX', 'RSI_indicator',\n",
        "       'DI_indicator']]\n",
        "k=df_train.dropna()\n",
        "k"
      ]
    },
    {
      "cell_type": "code",
      "execution_count": null,
      "metadata": {
        "id": "EqWiaejftuU6"
      },
      "outputs": [],
      "source": [
        "import tensorflow as tf\n"
      ]
    },
    {
      "cell_type": "code",
      "execution_count": null,
      "metadata": {
        "colab": {
          "base_uri": "https://localhost:8080/"
        },
        "id": "Lj62DORJtxqy",
        "outputId": "9d5b1e62-554b-4f71-cf8c-40d0e2e86ff8"
      },
      "outputs": [
        {
          "name": "stdout",
          "output_type": "stream",
          "text": [
            "Epoch 1/45\n",
            "172/172 [==============================] - 13s 69ms/step - loss: 0.4941 - mean_squared_error: 0.4595 - mean_absolute_percentage_error: 475448992.0000\n",
            "Epoch 2/45\n",
            "172/172 [==============================] - 12s 70ms/step - loss: 0.4935 - mean_squared_error: 0.4674 - mean_absolute_percentage_error: 479747072.0000\n",
            "Epoch 3/45\n",
            "172/172 [==============================] - 11s 67ms/step - loss: 0.4941 - mean_squared_error: 0.4673 - mean_absolute_percentage_error: 479762752.0000\n",
            "Epoch 4/45\n",
            "172/172 [==============================] - 11s 66ms/step - loss: 0.4936 - mean_squared_error: 0.4749 - mean_absolute_percentage_error: 483744832.0000\n",
            "Epoch 5/45\n",
            "172/172 [==============================] - 12s 71ms/step - loss: 0.4939 - mean_squared_error: 0.4618 - mean_absolute_percentage_error: 476727296.0000\n",
            "Epoch 6/45\n",
            "172/172 [==============================] - 11s 66ms/step - loss: 0.4940 - mean_squared_error: 0.4622 - mean_absolute_percentage_error: 476730336.0000\n",
            "Epoch 7/45\n",
            "172/172 [==============================] - 12s 71ms/step - loss: 0.4940 - mean_squared_error: 0.4396 - mean_absolute_percentage_error: 464294144.0000\n",
            "Epoch 8/45\n",
            "172/172 [==============================] - 12s 68ms/step - loss: 0.4938 - mean_squared_error: 0.4689 - mean_absolute_percentage_error: 480604544.0000\n",
            "Epoch 9/45\n",
            "172/172 [==============================] - 11s 66ms/step - loss: 0.4940 - mean_squared_error: 0.4635 - mean_absolute_percentage_error: 477630848.0000\n",
            "Epoch 10/45\n",
            "172/172 [==============================] - 12s 67ms/step - loss: 0.4935 - mean_squared_error: 0.4682 - mean_absolute_percentage_error: 480201472.0000\n",
            "Epoch 11/45\n",
            "172/172 [==============================] - 11s 67ms/step - loss: 0.4941 - mean_squared_error: 0.4474 - mean_absolute_percentage_error: 468658400.0000\n",
            "Epoch 12/45\n",
            "172/172 [==============================] - 11s 65ms/step - loss: 0.4938 - mean_squared_error: 0.4706 - mean_absolute_percentage_error: 481463136.0000\n",
            "Epoch 13/45\n",
            "172/172 [==============================] - 11s 65ms/step - loss: 0.4938 - mean_squared_error: 0.4604 - mean_absolute_percentage_error: 475867456.0000\n",
            "Epoch 14/45\n",
            "172/172 [==============================] - 11s 64ms/step - loss: 0.4937 - mean_squared_error: 0.4689 - mean_absolute_percentage_error: 480613056.0000\n",
            "Epoch 15/45\n",
            "172/172 [==============================] - 11s 67ms/step - loss: 0.4937 - mean_squared_error: 0.4714 - mean_absolute_percentage_error: 481972640.0000\n",
            "Epoch 16/45\n",
            "172/172 [==============================] - 12s 67ms/step - loss: 0.4938 - mean_squared_error: 0.4667 - mean_absolute_percentage_error: 479406944.0000\n",
            "Epoch 17/45\n",
            "172/172 [==============================] - 11s 66ms/step - loss: 0.4940 - mean_squared_error: 0.4675 - mean_absolute_percentage_error: 479840448.0000\n",
            "Epoch 18/45\n",
            "172/172 [==============================] - 12s 67ms/step - loss: 0.4936 - mean_squared_error: 0.4725 - mean_absolute_percentage_error: 482472256.0000\n",
            "Epoch 19/45\n",
            "172/172 [==============================] - 13s 76ms/step - loss: 0.4935 - mean_squared_error: 0.4784 - mean_absolute_percentage_error: 485636512.0000\n",
            "Epoch 20/45\n",
            "172/172 [==============================] - 11s 67ms/step - loss: 0.4939 - mean_squared_error: 0.4486 - mean_absolute_percentage_error: 469599200.0000\n",
            "Epoch 21/45\n",
            "172/172 [==============================] - 12s 68ms/step - loss: 0.4937 - mean_squared_error: 0.4709 - mean_absolute_percentage_error: 481709728.0000\n",
            "Epoch 22/45\n",
            "172/172 [==============================] - 12s 67ms/step - loss: 0.4941 - mean_squared_error: 0.4587 - mean_absolute_percentage_error: 475104672.0000\n",
            "Epoch 23/45\n",
            "172/172 [==============================] - 12s 67ms/step - loss: 0.4940 - mean_squared_error: 0.4662 - mean_absolute_percentage_error: 479093792.0000\n",
            "Epoch 24/45\n",
            "172/172 [==============================] - 12s 68ms/step - loss: 0.4936 - mean_squared_error: 0.4736 - mean_absolute_percentage_error: 483035872.0000\n",
            "Epoch 25/45\n",
            "172/172 [==============================] - 12s 69ms/step - loss: 0.4937 - mean_squared_error: 0.4634 - mean_absolute_percentage_error: 477596800.0000\n",
            "Epoch 26/45\n",
            "172/172 [==============================] - 11s 66ms/step - loss: 0.4942 - mean_squared_error: 0.4569 - mean_absolute_percentage_error: 473793664.0000\n",
            "Epoch 27/45\n",
            "172/172 [==============================] - 11s 65ms/step - loss: 0.4939 - mean_squared_error: 0.4680 - mean_absolute_percentage_error: 480035296.0000\n",
            "Epoch 28/45\n",
            "172/172 [==============================] - 11s 66ms/step - loss: 0.4940 - mean_squared_error: 0.4641 - mean_absolute_percentage_error: 478034944.0000\n",
            "Epoch 29/45\n",
            "172/172 [==============================] - 12s 67ms/step - loss: 0.4942 - mean_squared_error: 0.4457 - mean_absolute_percentage_error: 467873984.0000\n",
            "Epoch 30/45\n",
            "172/172 [==============================] - 11s 66ms/step - loss: 0.4934 - mean_squared_error: 0.4818 - mean_absolute_percentage_error: 487379648.0000\n",
            "Epoch 31/45\n",
            "172/172 [==============================] - 11s 67ms/step - loss: 0.4937 - mean_squared_error: 0.4610 - mean_absolute_percentage_error: 476404416.0000\n",
            "Epoch 32/45\n",
            "172/172 [==============================] - 11s 66ms/step - loss: 0.4936 - mean_squared_error: 0.4739 - mean_absolute_percentage_error: 483230752.0000\n",
            "Epoch 33/45\n",
            "172/172 [==============================] - 11s 67ms/step - loss: 0.4941 - mean_squared_error: 0.4624 - mean_absolute_percentage_error: 477072224.0000\n",
            "Epoch 34/45\n",
            "172/172 [==============================] - 11s 66ms/step - loss: 0.4935 - mean_squared_error: 0.4692 - mean_absolute_percentage_error: 480833056.0000\n",
            "Epoch 35/45\n",
            "172/172 [==============================] - 11s 66ms/step - loss: 0.4939 - mean_squared_error: 0.4714 - mean_absolute_percentage_error: 481865728.0000\n",
            "Epoch 36/45\n",
            "172/172 [==============================] - 11s 67ms/step - loss: 0.4935 - mean_squared_error: 0.4724 - mean_absolute_percentage_error: 482378368.0000\n",
            "Epoch 37/45\n",
            "172/172 [==============================] - 11s 67ms/step - loss: 0.4937 - mean_squared_error: 0.4611 - mean_absolute_percentage_error: 476465728.0000\n",
            "Epoch 38/45\n",
            "172/172 [==============================] - 12s 68ms/step - loss: 0.4940 - mean_squared_error: 0.4464 - mean_absolute_percentage_error: 468280992.0000\n",
            "Epoch 39/45\n",
            "172/172 [==============================] - 12s 71ms/step - loss: 0.4939 - mean_squared_error: 0.4702 - mean_absolute_percentage_error: 481302784.0000\n",
            "Epoch 40/45\n",
            "172/172 [==============================] - 12s 70ms/step - loss: 0.4936 - mean_squared_error: 0.4797 - mean_absolute_percentage_error: 486308256.0000\n",
            "Epoch 41/45\n",
            "172/172 [==============================] - 12s 71ms/step - loss: 0.4936 - mean_squared_error: 0.4733 - mean_absolute_percentage_error: 482929568.0000\n",
            "Epoch 42/45\n",
            "172/172 [==============================] - 12s 72ms/step - loss: 0.4938 - mean_squared_error: 0.4602 - mean_absolute_percentage_error: 475783968.0000\n",
            "Epoch 43/45\n",
            "172/172 [==============================] - 12s 70ms/step - loss: 0.4939 - mean_squared_error: 0.4554 - mean_absolute_percentage_error: 473077632.0000\n",
            "Epoch 44/45\n",
            "172/172 [==============================] - 12s 69ms/step - loss: 0.4930 - mean_squared_error: 0.4624 - mean_absolute_percentage_error: 476827680.0000\n",
            "Epoch 45/45\n",
            "172/172 [==============================] - 12s 67ms/step - loss: 0.4947 - mean_squared_error: 0.3860 - mean_absolute_percentage_error: 431197600.0000\n"
          ]
        },
        {
          "data": {
            "text/plain": [
              "<keras.callbacks.History at 0x7fdd11cad6d0>"
            ]
          },
          "execution_count": 15,
          "metadata": {},
          "output_type": "execute_result"
        }
      ],
      "source": [
        "model=tf.keras.models.load_model(\"BruteForce.h5\")\n",
        "model.fit(df_train,df_train_label,epochs=45)"
      ]
    },
    {
      "cell_type": "code",
      "execution_count": null,
      "metadata": {
        "colab": {
          "base_uri": "https://localhost:8080/"
        },
        "id": "c_Auq6QAwlbS",
        "outputId": "fa53e7f0-8f69-48a2-cbce-45e2f5f3b092"
      },
      "outputs": [
        {
          "name": "stdout",
          "output_type": "stream",
          "text": [
            "Empty DataFrame\n",
            "Columns: [target]\n",
            "Index: []\n"
          ]
        }
      ],
      "source": [
        "b=pd.DataFrame()\n",
        "b['target']=0\n",
        "print(b)\n",
        "k=model.predict(df_train)\n"
      ]
    },
    {
      "cell_type": "code",
      "execution_count": null,
      "metadata": {
        "id": "uofuQlPNy1Lz"
      },
      "outputs": [],
      "source": [
        "b['target']=k[0:10316][0]"
      ]
    },
    {
      "cell_type": "code",
      "execution_count": null,
      "metadata": {
        "colab": {
          "base_uri": "https://localhost:8080/"
        },
        "id": "SuMN6gRIzYkh",
        "outputId": "4c9c4164-d676-461d-c686-849fb1de6083"
      },
      "outputs": [
        {
          "data": {
            "text/plain": [
              "array([0.9553436], dtype=float32)"
            ]
          },
          "execution_count": 46,
          "metadata": {},
          "output_type": "execute_result"
        }
      ],
      "source": [
        "k[9]"
      ]
    },
    {
      "cell_type": "code",
      "execution_count": null,
      "metadata": {
        "colab": {
          "base_uri": "https://localhost:8080/"
        },
        "id": "XAYcUGmZKVES",
        "outputId": "fb0247ca-b960-4934-c35f-fc7f8c3cd0dd"
      },
      "outputs": [
        {
          "data": {
            "text/plain": [
              "(25425, 19)"
            ]
          },
          "execution_count": 100,
          "metadata": {},
          "output_type": "execute_result"
        }
      ],
      "source": [
        "df_train.shape"
      ]
    },
    {
      "cell_type": "code",
      "execution_count": null,
      "metadata": {
        "colab": {
          "base_uri": "https://localhost:8080/"
        },
        "id": "gvHpjQVaLeht",
        "outputId": "75007078-4235-4934-e183-0c0e29e72f87"
      },
      "outputs": [
        {
          "name": "stdout",
          "output_type": "stream",
          "text": [
            "Epoch 1/45\n",
            "624/624 [==============================] - 44s 71ms/step - loss: 0.4900 - mean_squared_error: 0.4371 - mean_absolute_percentage_error: 459257120.0000 - val_loss: 0.4938 - val_mean_squared_error: 0.4468 - val_mean_absolute_percentage_error: 468754272.0000\n",
            "Epoch 2/45\n",
            "624/624 [==============================] - 45s 73ms/step - loss: 0.4907 - mean_squared_error: 0.4424 - mean_absolute_percentage_error: 463660064.0000 - val_loss: 0.4939 - val_mean_squared_error: 0.4924 - val_mean_absolute_percentage_error: 492760320.0000\n",
            "Epoch 3/45\n",
            "624/624 [==============================] - 44s 70ms/step - loss: 0.4903 - mean_squared_error: 0.4470 - mean_absolute_percentage_error: 466217088.0000 - val_loss: 0.4938 - val_mean_squared_error: 0.4483 - val_mean_absolute_percentage_error: 469597760.0000\n",
            "Epoch 4/45\n",
            "624/624 [==============================] - 45s 71ms/step - loss: 0.4904 - mean_squared_error: 0.4569 - mean_absolute_percentage_error: 472205152.0000 - val_loss: 0.4945 - val_mean_squared_error: 0.4944 - val_mean_absolute_percentage_error: 493795488.0000\n",
            "Epoch 5/45\n",
            "624/624 [==============================] - 45s 72ms/step - loss: 0.4906 - mean_squared_error: 0.4334 - mean_absolute_percentage_error: 457772352.0000 - val_loss: 0.4940 - val_mean_squared_error: 0.4412 - val_mean_absolute_percentage_error: 465631200.0000\n",
            "Epoch 6/45\n",
            "624/624 [==============================] - 44s 71ms/step - loss: 0.4906 - mean_squared_error: 0.4525 - mean_absolute_percentage_error: 469691232.0000 - val_loss: 0.4934 - val_mean_squared_error: 0.4781 - val_mean_absolute_percentage_error: 485499648.0000\n",
            "Epoch 7/45\n",
            "624/624 [==============================] - 44s 71ms/step - loss: 0.4901 - mean_squared_error: 0.4601 - mean_absolute_percentage_error: 473957344.0000 - val_loss: 0.4933 - val_mean_squared_error: 0.4855 - val_mean_absolute_percentage_error: 489314592.0000\n",
            "Epoch 8/45\n",
            "624/624 [==============================] - 45s 72ms/step - loss: 0.4903 - mean_squared_error: 0.4642 - mean_absolute_percentage_error: 476205792.0000 - val_loss: 0.4936 - val_mean_squared_error: 0.4648 - val_mean_absolute_percentage_error: 478531392.0000\n",
            "Epoch 9/45\n",
            "624/624 [==============================] - 45s 72ms/step - loss: 0.4902 - mean_squared_error: 0.4601 - mean_absolute_percentage_error: 474021632.0000 - val_loss: 0.4933 - val_mean_squared_error: 0.4849 - val_mean_absolute_percentage_error: 489001152.0000\n",
            "Epoch 10/45\n",
            "624/624 [==============================] - 45s 72ms/step - loss: 0.4903 - mean_squared_error: 0.4655 - mean_absolute_percentage_error: 476791008.0000 - val_loss: 0.4936 - val_mean_squared_error: 0.4610 - val_mean_absolute_percentage_error: 476503936.0000\n",
            "Epoch 11/45\n",
            "624/624 [==============================] - 45s 72ms/step - loss: 0.4903 - mean_squared_error: 0.4596 - mean_absolute_percentage_error: 473419104.0000 - val_loss: 0.4935 - val_mean_squared_error: 0.4687 - val_mean_absolute_percentage_error: 480525344.0000\n",
            "Epoch 12/45\n",
            "624/624 [==============================] - 44s 71ms/step - loss: 0.4917 - mean_squared_error: 0.4215 - mean_absolute_percentage_error: 436112576.0000 - val_loss: 0.4936 - val_mean_squared_error: 0.4597 - val_mean_absolute_percentage_error: 475763392.0000\n",
            "Epoch 13/45\n",
            "624/624 [==============================] - 45s 72ms/step - loss: 0.4903 - mean_squared_error: 0.4520 - mean_absolute_percentage_error: 468621920.0000 - val_loss: 0.4934 - val_mean_squared_error: 0.4827 - val_mean_absolute_percentage_error: 487874624.0000\n",
            "Epoch 14/45\n",
            "624/624 [==============================] - 45s 72ms/step - loss: 0.4902 - mean_squared_error: 0.4508 - mean_absolute_percentage_error: 468676544.0000 - val_loss: 0.4935 - val_mean_squared_error: 0.4657 - val_mean_absolute_percentage_error: 478951712.0000\n",
            "Epoch 15/45\n",
            "624/624 [==============================] - 45s 72ms/step - loss: 0.4910 - mean_squared_error: 0.4361 - mean_absolute_percentage_error: 458269728.0000 - val_loss: 0.4932 - val_mean_squared_error: 0.4870 - val_mean_absolute_percentage_error: 490053152.0000\n",
            "Epoch 16/45\n",
            "624/624 [==============================] - 45s 71ms/step - loss: 0.4898 - mean_squared_error: 0.4355 - mean_absolute_percentage_error: 453167424.0000 - val_loss: 0.4947 - val_mean_squared_error: 0.4257 - val_mean_absolute_percentage_error: 453150784.0000\n",
            "Epoch 17/45\n",
            "624/624 [==============================] - 45s 73ms/step - loss: 0.4891 - mean_squared_error: 0.4302 - mean_absolute_percentage_error: 438979776.0000 - val_loss: 0.4935 - val_mean_squared_error: 0.4701 - val_mean_absolute_percentage_error: 481341152.0000\n",
            "Epoch 18/45\n",
            "624/624 [==============================] - 45s 73ms/step - loss: 0.4902 - mean_squared_error: 0.4588 - mean_absolute_percentage_error: 473215648.0000 - val_loss: 0.4940 - val_mean_squared_error: 0.4391 - val_mean_absolute_percentage_error: 464430208.0000\n",
            "Epoch 19/45\n",
            "624/624 [==============================] - 45s 72ms/step - loss: 0.4901 - mean_squared_error: 0.4663 - mean_absolute_percentage_error: 477372768.0000 - val_loss: 0.4932 - val_mean_squared_error: 0.4883 - val_mean_absolute_percentage_error: 490732704.0000\n",
            "Epoch 20/45\n",
            "624/624 [==============================] - 45s 72ms/step - loss: 0.4899 - mean_squared_error: 0.4650 - mean_absolute_percentage_error: 476566656.0000 - val_loss: 0.4938 - val_mean_squared_error: 0.4519 - val_mean_absolute_percentage_error: 471557728.0000\n",
            "Epoch 21/45\n",
            "624/624 [==============================] - 45s 71ms/step - loss: 0.4901 - mean_squared_error: 0.4634 - mean_absolute_percentage_error: 475777088.0000 - val_loss: 0.4934 - val_mean_squared_error: 0.4743 - val_mean_absolute_percentage_error: 483562688.0000\n",
            "Epoch 22/45\n",
            "624/624 [==============================] - 45s 72ms/step - loss: 0.4904 - mean_squared_error: 0.4408 - mean_absolute_percentage_error: 462619936.0000 - val_loss: 0.4935 - val_mean_squared_error: 0.4698 - val_mean_absolute_percentage_error: 481196320.0000\n",
            "Epoch 23/45\n",
            "624/624 [==============================] - 45s 72ms/step - loss: 0.4902 - mean_squared_error: 0.4592 - mean_absolute_percentage_error: 473395200.0000 - val_loss: 0.4937 - val_mean_squared_error: 0.4551 - val_mean_absolute_percentage_error: 473331680.0000\n",
            "Epoch 24/45\n",
            "624/624 [==============================] - 45s 73ms/step - loss: 0.4900 - mean_squared_error: 0.4665 - mean_absolute_percentage_error: 477466304.0000 - val_loss: 0.4933 - val_mean_squared_error: 0.4871 - val_mean_absolute_percentage_error: 490129824.0000\n",
            "Epoch 25/45\n",
            "624/624 [==============================] - 44s 70ms/step - loss: 0.4901 - mean_squared_error: 0.4486 - mean_absolute_percentage_error: 467424512.0000 - val_loss: 0.4934 - val_mean_squared_error: 0.4753 - val_mean_absolute_percentage_error: 484056352.0000\n",
            "Epoch 26/45\n",
            "624/624 [==============================] - 44s 71ms/step - loss: 0.4900 - mean_squared_error: 0.4627 - mean_absolute_percentage_error: 475388960.0000 - val_loss: 0.4938 - val_mean_squared_error: 0.4490 - val_mean_absolute_percentage_error: 469987968.0000\n",
            "Epoch 27/45\n",
            "624/624 [==============================] - 45s 72ms/step - loss: 0.4901 - mean_squared_error: 0.4554 - mean_absolute_percentage_error: 471285536.0000 - val_loss: 0.4935 - val_mean_squared_error: 0.4706 - val_mean_absolute_percentage_error: 481612192.0000\n",
            "Epoch 28/45\n",
            "624/624 [==============================] - 46s 74ms/step - loss: 0.4900 - mean_squared_error: 0.4606 - mean_absolute_percentage_error: 474247744.0000 - val_loss: 0.4943 - val_mean_squared_error: 0.4211 - val_mean_absolute_percentage_error: 454006912.0000\n",
            "Epoch 29/45\n",
            "624/624 [==============================] - 45s 72ms/step - loss: 0.4904 - mean_squared_error: 0.4485 - mean_absolute_percentage_error: 467538784.0000 - val_loss: 0.4933 - val_mean_squared_error: 0.4822 - val_mean_absolute_percentage_error: 487640896.0000\n",
            "Epoch 30/45\n",
            "624/624 [==============================] - 44s 71ms/step - loss: 0.4900 - mean_squared_error: 0.4655 - mean_absolute_percentage_error: 476936096.0000 - val_loss: 0.4938 - val_mean_squared_error: 0.4479 - val_mean_absolute_percentage_error: 469350368.0000\n",
            "Epoch 31/45\n",
            "624/624 [==============================] - 44s 71ms/step - loss: 0.4900 - mean_squared_error: 0.4692 - mean_absolute_percentage_error: 478905760.0000 - val_loss: 0.4933 - val_mean_squared_error: 0.4867 - val_mean_absolute_percentage_error: 489938016.0000\n",
            "Epoch 32/45\n",
            "624/624 [==============================] - 45s 72ms/step - loss: 0.4901 - mean_squared_error: 0.4666 - mean_absolute_percentage_error: 477514528.0000 - val_loss: 0.4938 - val_mean_squared_error: 0.4536 - val_mean_absolute_percentage_error: 472508544.0000\n",
            "Epoch 33/45\n",
            "624/624 [==============================] - 46s 73ms/step - loss: 0.4900 - mean_squared_error: 0.4611 - mean_absolute_percentage_error: 474495200.0000 - val_loss: 0.4943 - val_mean_squared_error: 0.4183 - val_mean_absolute_percentage_error: 452300736.0000\n",
            "Epoch 34/45\n",
            "624/624 [==============================] - 46s 73ms/step - loss: 0.4902 - mean_squared_error: 0.4607 - mean_absolute_percentage_error: 474285024.0000 - val_loss: 0.4932 - val_mean_squared_error: 0.4913 - val_mean_absolute_percentage_error: 492241376.0000\n",
            "Epoch 35/45\n",
            "624/624 [==============================] - 45s 72ms/step - loss: 0.4900 - mean_squared_error: 0.4648 - mean_absolute_percentage_error: 476455872.0000 - val_loss: 0.4944 - val_mean_squared_error: 0.4119 - val_mean_absolute_percentage_error: 448398624.0000\n",
            "Epoch 36/45\n",
            "624/624 [==============================] - 45s 72ms/step - loss: 0.4901 - mean_squared_error: 0.4634 - mean_absolute_percentage_error: 475730304.0000 - val_loss: 0.4935 - val_mean_squared_error: 0.4718 - val_mean_absolute_percentage_error: 482243936.0000\n",
            "Epoch 37/45\n",
            "624/624 [==============================] - 45s 72ms/step - loss: 0.4900 - mean_squared_error: 0.4558 - mean_absolute_percentage_error: 471409280.0000 - val_loss: 0.4937 - val_mean_squared_error: 0.4560 - val_mean_absolute_percentage_error: 473820064.0000\n",
            "Epoch 38/45\n",
            "624/624 [==============================] - 45s 71ms/step - loss: 0.4900 - mean_squared_error: 0.4693 - mean_absolute_percentage_error: 478998144.0000 - val_loss: 0.4936 - val_mean_squared_error: 0.4642 - val_mean_absolute_percentage_error: 478222816.0000\n",
            "Epoch 39/45\n",
            "624/624 [==============================] - 46s 73ms/step - loss: 0.4901 - mean_squared_error: 0.4630 - mean_absolute_percentage_error: 475610848.0000 - val_loss: 0.4936 - val_mean_squared_error: 0.4605 - val_mean_absolute_percentage_error: 476263072.0000\n",
            "Epoch 40/45\n",
            "624/624 [==============================] - 46s 73ms/step - loss: 0.4900 - mean_squared_error: 0.4553 - mean_absolute_percentage_error: 471230176.0000 - val_loss: 0.4934 - val_mean_squared_error: 0.4748 - val_mean_absolute_percentage_error: 483821056.0000\n",
            "Epoch 41/45\n",
            "624/624 [==============================] - 46s 74ms/step - loss: 0.4901 - mean_squared_error: 0.4603 - mean_absolute_percentage_error: 473999840.0000 - val_loss: 0.4943 - val_mean_squared_error: 0.4203 - val_mean_absolute_percentage_error: 453505056.0000\n",
            "Epoch 42/45\n",
            "624/624 [==============================] - 46s 73ms/step - loss: 0.4902 - mean_squared_error: 0.4633 - mean_absolute_percentage_error: 475604032.0000 - val_loss: 0.4936 - val_mean_squared_error: 0.4637 - val_mean_absolute_percentage_error: 477966752.0000\n",
            "Epoch 43/45\n",
            "624/624 [==============================] - 46s 73ms/step - loss: 0.4900 - mean_squared_error: 0.4683 - mean_absolute_percentage_error: 478471712.0000 - val_loss: 0.4935 - val_mean_squared_error: 0.4679 - val_mean_absolute_percentage_error: 480207424.0000\n",
            "Epoch 44/45\n",
            "624/624 [==============================] - 45s 73ms/step - loss: 0.4902 - mean_squared_error: 0.4614 - mean_absolute_percentage_error: 474519840.0000 - val_loss: 0.4937 - val_mean_squared_error: 0.4590 - val_mean_absolute_percentage_error: 475431488.0000\n",
            "Epoch 45/45\n",
            "624/624 [==============================] - 46s 73ms/step - loss: 0.4901 - mean_squared_error: 0.4620 - mean_absolute_percentage_error: 475060448.0000 - val_loss: 0.4933 - val_mean_squared_error: 0.4818 - val_mean_absolute_percentage_error: 487428128.0000\n"
          ]
        },
        {
          "data": {
            "text/plain": [
              "<keras.callbacks.History at 0x7f9c946bff50>"
            ]
          },
          "execution_count": 31,
          "metadata": {},
          "output_type": "execute_result"
        }
      ],
      "source": [
        "model.fit(df_train,df_train_label,epochs=45,validation_data=[df_test,df_test_label])"
      ]
    },
    {
      "cell_type": "code",
      "execution_count": null,
      "metadata": {
        "id": "ghygGaiKYCH_"
      },
      "outputs": [],
      "source": [
        "model.sa"
      ]
    },
    {
      "cell_type": "code",
      "execution_count": null,
      "metadata": {
        "id": "I-d3QhFfMkVj"
      },
      "outputs": [],
      "source": [
        "for i in range(39,20000,500):\n",
        "  df_train_temp=df_train.iloc[i,500+i]\n",
        "  df_label_temp=df_train_label.iloc[i,500+i]"
      ]
    },
    {
      "cell_type": "code",
      "execution_count": null,
      "metadata": {
        "id": "ci1iNrXt-X8y"
      },
      "outputs": [],
      "source": [
        "tf.keras.backend.clear_session()"
      ]
    },
    {
      "cell_type": "code",
      "execution_count": null,
      "metadata": {
        "colab": {
          "base_uri": "https://localhost:8080/",
          "height": 73,
          "resources": {
            "http://localhost:8080/nbextensions/google.colab/files.js": {
              "data": "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",
              "headers": [
                [
                  "content-type",
                  "application/javascript"
                ]
              ],
              "ok": true,
              "status": 200,
              "status_text": ""
            }
          }
        },
        "id": "KEGfNRNlH6ed",
        "outputId": "00cbdda8-dec1-4b5a-ccfc-1f83e3a6c3a7"
      },
      "outputs": [
        {
          "data": {
            "text/html": [
              "\n",
              "     <input type=\"file\" id=\"files-41a38782-ae79-420e-ac0f-1f65896e6de8\" name=\"files[]\" multiple disabled\n",
              "        style=\"border:none\" />\n",
              "     <output id=\"result-41a38782-ae79-420e-ac0f-1f65896e6de8\">\n",
              "      Upload widget is only available when the cell has been executed in the\n",
              "      current browser session. Please rerun this cell to enable.\n",
              "      </output>\n",
              "      <script src=\"/nbextensions/google.colab/files.js\"></script> "
            ],
            "text/plain": [
              "<IPython.core.display.HTML object>"
            ]
          },
          "metadata": {},
          "output_type": "display_data"
        },
        {
          "name": "stdout",
          "output_type": "stream",
          "text": [
            "Saving Windowed.h5 to Windowed.h5\n"
          ]
        }
      ],
      "source": [
        "from google.colab import files\n",
        "pqrs=files.upload()\n",
        "model=tf.keras.models.load_model('Windowed.h5')"
      ]
    },
    {
      "cell_type": "code",
      "execution_count": null,
      "metadata": {
        "colab": {
          "base_uri": "https://localhost:8080/",
          "height": 391
        },
        "id": "wVgh-CUe4ggJ",
        "outputId": "5ff3fb69-f59c-453d-fb6f-2d9e16bf6673"
      },
      "outputs": [
        {
          "ename": "ImportError",
          "evalue": "ignored",
          "output_type": "error",
          "traceback": [
            "\u001b[0;31m---------------------------------------------------------------------------\u001b[0m",
            "\u001b[0;31mImportError\u001b[0m                               Traceback (most recent call last)",
            "\u001b[0;32m<ipython-input-10-164262a14709>\u001b[0m in \u001b[0;36m<module>\u001b[0;34m()\u001b[0m\n\u001b[0;32m----> 1\u001b[0;31m \u001b[0;32mfrom\u001b[0m \u001b[0msklearn\u001b[0m\u001b[0;34m.\u001b[0m\u001b[0mpreprocessing\u001b[0m \u001b[0;32mimport\u001b[0m \u001b[0mtrain_test_split\u001b[0m\u001b[0;34m\u001b[0m\u001b[0;34m\u001b[0m\u001b[0m\n\u001b[0m\u001b[1;32m      2\u001b[0m \u001b[0;32mfor\u001b[0m \u001b[0mi\u001b[0m \u001b[0;32min\u001b[0m \u001b[0mrange\u001b[0m\u001b[0;34m(\u001b[0m\u001b[0;36m39\u001b[0m\u001b[0;34m,\u001b[0m\u001b[0;36m25500\u001b[0m\u001b[0;34m,\u001b[0m\u001b[0;36m500\u001b[0m\u001b[0;34m)\u001b[0m\u001b[0;34m:\u001b[0m\u001b[0;34m\u001b[0m\u001b[0;34m\u001b[0m\u001b[0m\n\u001b[1;32m      3\u001b[0m   df_train=df.loc[39+i:538+i,['close','SMA_7',\n\u001b[1;32m      4\u001b[0m        \u001b[0;34m'SMA_14'\u001b[0m\u001b[0;34m,\u001b[0m \u001b[0;34m'SMA_21'\u001b[0m\u001b[0;34m,\u001b[0m \u001b[0;34m'RSI_7'\u001b[0m\u001b[0;34m,\u001b[0m \u001b[0;34m'RSI_14'\u001b[0m\u001b[0;34m,\u001b[0m \u001b[0;34m'RSI_21'\u001b[0m\u001b[0;34m,\u001b[0m \u001b[0;34m'ATR_14'\u001b[0m\u001b[0;34m,\u001b[0m \u001b[0;34m'bb_mavg'\u001b[0m\u001b[0;34m,\u001b[0m\u001b[0;34m\u001b[0m\u001b[0;34m\u001b[0m\u001b[0m\n\u001b[1;32m      5\u001b[0m        \u001b[0;34m'bb_hband'\u001b[0m\u001b[0;34m,\u001b[0m \u001b[0;34m'bb_lband'\u001b[0m\u001b[0;34m,\u001b[0m \u001b[0;34m'H-L'\u001b[0m\u001b[0;34m,\u001b[0m \u001b[0;34m'H-PC'\u001b[0m\u001b[0;34m,\u001b[0m \u001b[0;34m'L-PC'\u001b[0m\u001b[0;34m,\u001b[0m \u001b[0;34m'TR'\u001b[0m\u001b[0;34m,\u001b[0m \u001b[0;34m'+DM'\u001b[0m\u001b[0;34m,\u001b[0m \u001b[0;34m'-DM'\u001b[0m\u001b[0;34m,\u001b[0m\u001b[0;34m\u001b[0m\u001b[0;34m\u001b[0m\u001b[0m\n",
            "\u001b[0;31mImportError\u001b[0m: cannot import name 'train_test_split' from 'sklearn.preprocessing' (/usr/local/lib/python3.7/dist-packages/sklearn/preprocessing/__init__.py)",
            "",
            "\u001b[0;31m---------------------------------------------------------------------------\u001b[0;32m\nNOTE: If your import is failing due to a missing package, you can\nmanually install dependencies using either !pip or !apt.\n\nTo view examples of installing some common dependencies, click the\n\"Open Examples\" button below.\n\u001b[0;31m---------------------------------------------------------------------------\u001b[0m\n"
          ]
        }
      ],
      "source": [
        "from sklearn.model_selection import train_test_split\n",
        "for i in range(39,25500,500):\n",
        "  df_train=df.loc[39+i:538+i,['close','SMA_7',\n",
        "       'SMA_14', 'SMA_21', 'RSI_7', 'RSI_14', 'RSI_21', 'ATR_14', 'bb_mavg',\n",
        "       'bb_hband', 'bb_lband', 'H-L', 'H-PC', 'L-PC', 'TR', '+DM', '-DM',\n",
        "       '+DMMA', '-DMMA', 'TRMA', '+DI', '-DI', 'DX', 'ADX', 'RSI_indicator',\n",
        "       'DI_indicator']]\n",
        "  label=label_train[i:i+500]\n",
        "  model.fit(df_train,label,epochs=4)"
      ]
    },
    {
      "cell_type": "code",
      "execution_count": null,
      "metadata": {
        "colab": {
          "base_uri": "https://localhost:8080/",
          "height": 363
        },
        "id": "ClrxZ30VForu",
        "outputId": "62794b17-dc1c-4936-f5b4-5b14ed19c56c"
      },
      "outputs": [
        {
          "ename": "KeyboardInterrupt",
          "evalue": "ignored",
          "output_type": "error",
          "traceback": [
            "\u001b[0;31m---------------------------------------------------------------------------\u001b[0m",
            "\u001b[0;31mKeyboardInterrupt\u001b[0m                         Traceback (most recent call last)",
            "\u001b[0;32m<ipython-input-88-1e2e312bc515>\u001b[0m in \u001b[0;36m<module>\u001b[0;34m()\u001b[0m\n\u001b[1;32m      8\u001b[0m        'DI_indicator']]\n\u001b[1;32m      9\u001b[0m   \u001b[0mdf_train\u001b[0m\u001b[0;34m=\u001b[0m\u001b[0mdf_train\u001b[0m\u001b[0;34m.\u001b[0m\u001b[0mto_numpy\u001b[0m\u001b[0;34m(\u001b[0m\u001b[0;34m)\u001b[0m\u001b[0;34m\u001b[0m\u001b[0;34m\u001b[0m\u001b[0m\n\u001b[0;32m---> 10\u001b[0;31m   \u001b[0mfinal\u001b[0m\u001b[0;34m.\u001b[0m\u001b[0mappend\u001b[0m\u001b[0;34m(\u001b[0m\u001b[0mmodel\u001b[0m\u001b[0;34m.\u001b[0m\u001b[0mpredict\u001b[0m\u001b[0;34m(\u001b[0m\u001b[0mdf_train\u001b[0m\u001b[0;34m)\u001b[0m\u001b[0;34m)\u001b[0m\u001b[0;34m\u001b[0m\u001b[0;34m\u001b[0m\u001b[0m\n\u001b[0m\u001b[1;32m     11\u001b[0m \u001b[0mfinal\u001b[0m\u001b[0;34m\u001b[0m\u001b[0;34m\u001b[0m\u001b[0m\n",
            "\u001b[0;32m/usr/local/lib/python3.7/dist-packages/keras/utils/traceback_utils.py\u001b[0m in \u001b[0;36merror_handler\u001b[0;34m(*args, **kwargs)\u001b[0m\n\u001b[1;32m     62\u001b[0m     \u001b[0mfiltered_tb\u001b[0m \u001b[0;34m=\u001b[0m \u001b[0;32mNone\u001b[0m\u001b[0;34m\u001b[0m\u001b[0;34m\u001b[0m\u001b[0m\n\u001b[1;32m     63\u001b[0m     \u001b[0;32mtry\u001b[0m\u001b[0;34m:\u001b[0m\u001b[0;34m\u001b[0m\u001b[0;34m\u001b[0m\u001b[0m\n\u001b[0;32m---> 64\u001b[0;31m       \u001b[0;32mreturn\u001b[0m \u001b[0mfn\u001b[0m\u001b[0;34m(\u001b[0m\u001b[0;34m*\u001b[0m\u001b[0margs\u001b[0m\u001b[0;34m,\u001b[0m \u001b[0;34m**\u001b[0m\u001b[0mkwargs\u001b[0m\u001b[0;34m)\u001b[0m\u001b[0;34m\u001b[0m\u001b[0;34m\u001b[0m\u001b[0m\n\u001b[0m\u001b[1;32m     65\u001b[0m     \u001b[0;32mexcept\u001b[0m \u001b[0mException\u001b[0m \u001b[0;32mas\u001b[0m \u001b[0me\u001b[0m\u001b[0;34m:\u001b[0m  \u001b[0;31m# pylint: disable=broad-except\u001b[0m\u001b[0;34m\u001b[0m\u001b[0;34m\u001b[0m\u001b[0m\n\u001b[1;32m     66\u001b[0m       \u001b[0mfiltered_tb\u001b[0m \u001b[0;34m=\u001b[0m \u001b[0m_process_traceback_frames\u001b[0m\u001b[0;34m(\u001b[0m\u001b[0me\u001b[0m\u001b[0;34m.\u001b[0m\u001b[0m__traceback__\u001b[0m\u001b[0;34m)\u001b[0m\u001b[0;34m\u001b[0m\u001b[0;34m\u001b[0m\u001b[0m\n",
            "\u001b[0;32m/usr/local/lib/python3.7/dist-packages/keras/engine/training.py\u001b[0m in \u001b[0;36mpredict\u001b[0;34m(self, x, batch_size, verbose, steps, callbacks, max_queue_size, workers, use_multiprocessing)\u001b[0m\n\u001b[1;32m   1783\u001b[0m       \u001b[0mcallbacks\u001b[0m\u001b[0;34m.\u001b[0m\u001b[0mon_predict_begin\u001b[0m\u001b[0;34m(\u001b[0m\u001b[0;34m)\u001b[0m\u001b[0;34m\u001b[0m\u001b[0;34m\u001b[0m\u001b[0m\n\u001b[1;32m   1784\u001b[0m       \u001b[0mbatch_outputs\u001b[0m \u001b[0;34m=\u001b[0m \u001b[0;32mNone\u001b[0m\u001b[0;34m\u001b[0m\u001b[0;34m\u001b[0m\u001b[0m\n\u001b[0;32m-> 1785\u001b[0;31m       \u001b[0;32mfor\u001b[0m \u001b[0m_\u001b[0m\u001b[0;34m,\u001b[0m \u001b[0miterator\u001b[0m \u001b[0;32min\u001b[0m \u001b[0mdata_handler\u001b[0m\u001b[0;34m.\u001b[0m\u001b[0menumerate_epochs\u001b[0m\u001b[0;34m(\u001b[0m\u001b[0;34m)\u001b[0m\u001b[0;34m:\u001b[0m  \u001b[0;31m# Single epoch.\u001b[0m\u001b[0;34m\u001b[0m\u001b[0;34m\u001b[0m\u001b[0m\n\u001b[0m\u001b[1;32m   1786\u001b[0m         \u001b[0;32mwith\u001b[0m \u001b[0mdata_handler\u001b[0m\u001b[0;34m.\u001b[0m\u001b[0mcatch_stop_iteration\u001b[0m\u001b[0;34m(\u001b[0m\u001b[0;34m)\u001b[0m\u001b[0;34m:\u001b[0m\u001b[0;34m\u001b[0m\u001b[0;34m\u001b[0m\u001b[0m\n\u001b[1;32m   1787\u001b[0m           \u001b[0;32mfor\u001b[0m \u001b[0mstep\u001b[0m \u001b[0;32min\u001b[0m \u001b[0mdata_handler\u001b[0m\u001b[0;34m.\u001b[0m\u001b[0msteps\u001b[0m\u001b[0;34m(\u001b[0m\u001b[0;34m)\u001b[0m\u001b[0;34m:\u001b[0m\u001b[0;34m\u001b[0m\u001b[0;34m\u001b[0m\u001b[0m\n",
            "\u001b[0;32m/usr/local/lib/python3.7/dist-packages/keras/engine/data_adapter.py\u001b[0m in \u001b[0;36menumerate_epochs\u001b[0;34m(self)\u001b[0m\n\u001b[1;32m   1193\u001b[0m     \u001b[0;34m\"\"\"Yields `(epoch, tf.data.Iterator)`.\"\"\"\u001b[0m\u001b[0;34m\u001b[0m\u001b[0;34m\u001b[0m\u001b[0m\n\u001b[1;32m   1194\u001b[0m     \u001b[0;32mwith\u001b[0m \u001b[0mself\u001b[0m\u001b[0;34m.\u001b[0m\u001b[0m_truncate_execution_to_epoch\u001b[0m\u001b[0;34m(\u001b[0m\u001b[0;34m)\u001b[0m\u001b[0;34m:\u001b[0m\u001b[0;34m\u001b[0m\u001b[0;34m\u001b[0m\u001b[0m\n\u001b[0;32m-> 1195\u001b[0;31m       \u001b[0mdata_iterator\u001b[0m \u001b[0;34m=\u001b[0m \u001b[0miter\u001b[0m\u001b[0;34m(\u001b[0m\u001b[0mself\u001b[0m\u001b[0;34m.\u001b[0m\u001b[0m_dataset\u001b[0m\u001b[0;34m)\u001b[0m\u001b[0;34m\u001b[0m\u001b[0;34m\u001b[0m\u001b[0m\n\u001b[0m\u001b[1;32m   1196\u001b[0m       \u001b[0;32mfor\u001b[0m \u001b[0mepoch\u001b[0m \u001b[0;32min\u001b[0m \u001b[0mrange\u001b[0m\u001b[0;34m(\u001b[0m\u001b[0mself\u001b[0m\u001b[0;34m.\u001b[0m\u001b[0m_initial_epoch\u001b[0m\u001b[0;34m,\u001b[0m \u001b[0mself\u001b[0m\u001b[0;34m.\u001b[0m\u001b[0m_epochs\u001b[0m\u001b[0;34m)\u001b[0m\u001b[0;34m:\u001b[0m\u001b[0;34m\u001b[0m\u001b[0;34m\u001b[0m\u001b[0m\n\u001b[1;32m   1197\u001b[0m         \u001b[0;32mif\u001b[0m \u001b[0mself\u001b[0m\u001b[0;34m.\u001b[0m\u001b[0m_insufficient_data\u001b[0m\u001b[0;34m:\u001b[0m  \u001b[0;31m# Set by `catch_stop_iteration`.\u001b[0m\u001b[0;34m\u001b[0m\u001b[0;34m\u001b[0m\u001b[0m\n",
            "\u001b[0;32m/usr/local/lib/python3.7/dist-packages/tensorflow/python/data/ops/dataset_ops.py\u001b[0m in \u001b[0;36m__iter__\u001b[0;34m(self)\u001b[0m\n\u001b[1;32m    488\u001b[0m     \u001b[0;32mif\u001b[0m \u001b[0mcontext\u001b[0m\u001b[0;34m.\u001b[0m\u001b[0mexecuting_eagerly\u001b[0m\u001b[0;34m(\u001b[0m\u001b[0;34m)\u001b[0m \u001b[0;32mor\u001b[0m \u001b[0mops\u001b[0m\u001b[0;34m.\u001b[0m\u001b[0minside_function\u001b[0m\u001b[0;34m(\u001b[0m\u001b[0;34m)\u001b[0m\u001b[0;34m:\u001b[0m\u001b[0;34m\u001b[0m\u001b[0;34m\u001b[0m\u001b[0m\n\u001b[1;32m    489\u001b[0m       \u001b[0;32mwith\u001b[0m \u001b[0mops\u001b[0m\u001b[0;34m.\u001b[0m\u001b[0mcolocate_with\u001b[0m\u001b[0;34m(\u001b[0m\u001b[0mself\u001b[0m\u001b[0;34m.\u001b[0m\u001b[0m_variant_tensor\u001b[0m\u001b[0;34m)\u001b[0m\u001b[0;34m:\u001b[0m\u001b[0;34m\u001b[0m\u001b[0;34m\u001b[0m\u001b[0m\n\u001b[0;32m--> 490\u001b[0;31m         \u001b[0;32mreturn\u001b[0m \u001b[0miterator_ops\u001b[0m\u001b[0;34m.\u001b[0m\u001b[0mOwnedIterator\u001b[0m\u001b[0;34m(\u001b[0m\u001b[0mself\u001b[0m\u001b[0;34m)\u001b[0m\u001b[0;34m\u001b[0m\u001b[0;34m\u001b[0m\u001b[0m\n\u001b[0m\u001b[1;32m    491\u001b[0m     \u001b[0;32melse\u001b[0m\u001b[0;34m:\u001b[0m\u001b[0;34m\u001b[0m\u001b[0;34m\u001b[0m\u001b[0m\n\u001b[1;32m    492\u001b[0m       raise RuntimeError(\"`tf.data.Dataset` only supports Python-style \"\n",
            "\u001b[0;32m/usr/local/lib/python3.7/dist-packages/tensorflow/python/data/ops/iterator_ops.py\u001b[0m in \u001b[0;36m__init__\u001b[0;34m(self, dataset, components, element_spec)\u001b[0m\n\u001b[1;32m    724\u001b[0m             \u001b[0;34m\"When `dataset` is provided, `element_spec` and `components` must \"\u001b[0m\u001b[0;34m\u001b[0m\u001b[0;34m\u001b[0m\u001b[0m\n\u001b[1;32m    725\u001b[0m             \"not be specified.\")\n\u001b[0;32m--> 726\u001b[0;31m       \u001b[0mself\u001b[0m\u001b[0;34m.\u001b[0m\u001b[0m_create_iterator\u001b[0m\u001b[0;34m(\u001b[0m\u001b[0mdataset\u001b[0m\u001b[0;34m)\u001b[0m\u001b[0;34m\u001b[0m\u001b[0;34m\u001b[0m\u001b[0m\n\u001b[0m\u001b[1;32m    727\u001b[0m \u001b[0;34m\u001b[0m\u001b[0m\n\u001b[1;32m    728\u001b[0m     \u001b[0mself\u001b[0m\u001b[0;34m.\u001b[0m\u001b[0m_get_next_call_count\u001b[0m \u001b[0;34m=\u001b[0m \u001b[0;36m0\u001b[0m\u001b[0;34m\u001b[0m\u001b[0;34m\u001b[0m\u001b[0m\n",
            "\u001b[0;32m/usr/local/lib/python3.7/dist-packages/tensorflow/python/data/ops/iterator_ops.py\u001b[0m in \u001b[0;36m_create_iterator\u001b[0;34m(self, dataset)\u001b[0m\n\u001b[1;32m    749\u001b[0m               \u001b[0moutput_types\u001b[0m\u001b[0;34m=\u001b[0m\u001b[0mself\u001b[0m\u001b[0;34m.\u001b[0m\u001b[0m_flat_output_types\u001b[0m\u001b[0;34m,\u001b[0m\u001b[0;34m\u001b[0m\u001b[0;34m\u001b[0m\u001b[0m\n\u001b[1;32m    750\u001b[0m               output_shapes=self._flat_output_shapes))\n\u001b[0;32m--> 751\u001b[0;31m       \u001b[0mgen_dataset_ops\u001b[0m\u001b[0;34m.\u001b[0m\u001b[0mmake_iterator\u001b[0m\u001b[0;34m(\u001b[0m\u001b[0mds_variant\u001b[0m\u001b[0;34m,\u001b[0m \u001b[0mself\u001b[0m\u001b[0;34m.\u001b[0m\u001b[0m_iterator_resource\u001b[0m\u001b[0;34m)\u001b[0m\u001b[0;34m\u001b[0m\u001b[0;34m\u001b[0m\u001b[0m\n\u001b[0m\u001b[1;32m    752\u001b[0m       \u001b[0;31m# Delete the resource when this object is deleted\u001b[0m\u001b[0;34m\u001b[0m\u001b[0;34m\u001b[0m\u001b[0;34m\u001b[0m\u001b[0m\n\u001b[1;32m    753\u001b[0m       self._resource_deleter = IteratorResourceDeleter(\n",
            "\u001b[0;32m/usr/local/lib/python3.7/dist-packages/tensorflow/python/ops/gen_dataset_ops.py\u001b[0m in \u001b[0;36mmake_iterator\u001b[0;34m(dataset, iterator, name)\u001b[0m\n\u001b[1;32m   3236\u001b[0m     \u001b[0;32mtry\u001b[0m\u001b[0;34m:\u001b[0m\u001b[0;34m\u001b[0m\u001b[0;34m\u001b[0m\u001b[0m\n\u001b[1;32m   3237\u001b[0m       _result = pywrap_tfe.TFE_Py_FastPathExecute(\n\u001b[0;32m-> 3238\u001b[0;31m         _ctx, \"MakeIterator\", name, dataset, iterator)\n\u001b[0m\u001b[1;32m   3239\u001b[0m       \u001b[0;32mreturn\u001b[0m \u001b[0m_result\u001b[0m\u001b[0;34m\u001b[0m\u001b[0;34m\u001b[0m\u001b[0m\n\u001b[1;32m   3240\u001b[0m     \u001b[0;32mexcept\u001b[0m \u001b[0m_core\u001b[0m\u001b[0;34m.\u001b[0m\u001b[0m_NotOkStatusException\u001b[0m \u001b[0;32mas\u001b[0m \u001b[0me\u001b[0m\u001b[0;34m:\u001b[0m\u001b[0;34m\u001b[0m\u001b[0;34m\u001b[0m\u001b[0m\n",
            "\u001b[0;31mKeyboardInterrupt\u001b[0m: "
          ]
        }
      ],
      "source": [
        "final=[]\n",
        "\n",
        "for i in range(0,len(label_train)):\n",
        "  df_train=df.loc[i:i+1,['close','SMA_7',\n",
        "       'SMA_14', 'SMA_21', 'RSI_7', 'RSI_14', 'RSI_21', 'ATR_14', 'bb_mavg',\n",
        "       'bb_hband', 'bb_lband', 'H-L', 'H-PC', 'L-PC', 'TR', '+DM', '-DM',\n",
        "       '+DMMA', '-DMMA', 'TRMA', '+DI', '-DI', 'DX', 'ADX', 'RSI_indicator',\n",
        "       'DI_indicator']]\n",
        "  df_train=df_train.to_numpy()\n",
        "  final.append(model.predict(df_train))\n",
        "final"
      ]
    },
    {
      "cell_type": "code",
      "execution_count": null,
      "metadata": {
        "id": "lu4oomw_M6vF"
      },
      "outputs": [],
      "source": [
        "model.save('Windowed.h5')"
      ]
    },
    {
      "cell_type": "code",
      "execution_count": null,
      "metadata": {
        "id": "0fjWMHYSNId1"
      },
      "outputs": [],
      "source": [
        "\n",
        "m=model.predict(df_train)"
      ]
    },
    {
      "cell_type": "code",
      "execution_count": null,
      "metadata": {
        "id": "GEiomO32NfBU"
      },
      "outputs": [],
      "source": [
        ""
      ]
    },
    {
      "cell_type": "code",
      "execution_count": null,
      "metadata": {
        "colab": {
          "base_uri": "https://localhost:8080/",
          "height": 381
        },
        "id": "t03iOO0I9lKK",
        "outputId": "a68743ac-32ba-4eb6-8c8e-a3f3403ea61e"
      },
      "outputs": [
        {
          "name": "stdout",
          "output_type": "stream",
          "text": [
            "Epoch 1/7\n",
            "796/796 [==============================] - 28s 34ms/step - loss: 0.4906 - mean_squared_error: 0.3694 - mean_absolute_percentage_error: 384295872.0000\n",
            "Epoch 2/7\n",
            "408/796 [==============>...............] - ETA: 15s - loss: 0.4890 - mean_squared_error: 0.3795 - mean_absolute_percentage_error: 392435712.0000"
          ]
        },
        {
          "ename": "KeyboardInterrupt",
          "evalue": "ignored",
          "output_type": "error",
          "traceback": [
            "\u001b[0;31m---------------------------------------------------------------------------\u001b[0m",
            "\u001b[0;31mKeyboardInterrupt\u001b[0m                         Traceback (most recent call last)",
            "\u001b[0;32m<ipython-input-69-f9eb3d3d7d20>\u001b[0m in \u001b[0;36m<module>\u001b[0;34m()\u001b[0m\n\u001b[0;32m----> 1\u001b[0;31m \u001b[0mmodel\u001b[0m\u001b[0;34m.\u001b[0m\u001b[0mfit\u001b[0m\u001b[0;34m(\u001b[0m\u001b[0mdf_train\u001b[0m\u001b[0;34m,\u001b[0m\u001b[0mlabel_train\u001b[0m\u001b[0;34m,\u001b[0m\u001b[0mepochs\u001b[0m\u001b[0;34m=\u001b[0m\u001b[0;36m7\u001b[0m\u001b[0;34m)\u001b[0m\u001b[0;34m\u001b[0m\u001b[0;34m\u001b[0m\u001b[0m\n\u001b[0m",
            "\u001b[0;32m/usr/local/lib/python3.7/dist-packages/keras/utils/traceback_utils.py\u001b[0m in \u001b[0;36merror_handler\u001b[0;34m(*args, **kwargs)\u001b[0m\n\u001b[1;32m     62\u001b[0m     \u001b[0mfiltered_tb\u001b[0m \u001b[0;34m=\u001b[0m \u001b[0;32mNone\u001b[0m\u001b[0;34m\u001b[0m\u001b[0;34m\u001b[0m\u001b[0m\n\u001b[1;32m     63\u001b[0m     \u001b[0;32mtry\u001b[0m\u001b[0;34m:\u001b[0m\u001b[0;34m\u001b[0m\u001b[0;34m\u001b[0m\u001b[0m\n\u001b[0;32m---> 64\u001b[0;31m       \u001b[0;32mreturn\u001b[0m \u001b[0mfn\u001b[0m\u001b[0;34m(\u001b[0m\u001b[0;34m*\u001b[0m\u001b[0margs\u001b[0m\u001b[0;34m,\u001b[0m \u001b[0;34m**\u001b[0m\u001b[0mkwargs\u001b[0m\u001b[0;34m)\u001b[0m\u001b[0;34m\u001b[0m\u001b[0;34m\u001b[0m\u001b[0m\n\u001b[0m\u001b[1;32m     65\u001b[0m     \u001b[0;32mexcept\u001b[0m \u001b[0mException\u001b[0m \u001b[0;32mas\u001b[0m \u001b[0me\u001b[0m\u001b[0;34m:\u001b[0m  \u001b[0;31m# pylint: disable=broad-except\u001b[0m\u001b[0;34m\u001b[0m\u001b[0;34m\u001b[0m\u001b[0m\n\u001b[1;32m     66\u001b[0m       \u001b[0mfiltered_tb\u001b[0m \u001b[0;34m=\u001b[0m \u001b[0m_process_traceback_frames\u001b[0m\u001b[0;34m(\u001b[0m\u001b[0me\u001b[0m\u001b[0;34m.\u001b[0m\u001b[0m__traceback__\u001b[0m\u001b[0;34m)\u001b[0m\u001b[0;34m\u001b[0m\u001b[0;34m\u001b[0m\u001b[0m\n",
            "\u001b[0;32m/usr/local/lib/python3.7/dist-packages/keras/engine/training.py\u001b[0m in \u001b[0;36mfit\u001b[0;34m(self, x, y, batch_size, epochs, verbose, callbacks, validation_split, validation_data, shuffle, class_weight, sample_weight, initial_epoch, steps_per_epoch, validation_steps, validation_batch_size, validation_freq, max_queue_size, workers, use_multiprocessing)\u001b[0m\n\u001b[1;32m   1214\u001b[0m                 _r=1):\n\u001b[1;32m   1215\u001b[0m               \u001b[0mcallbacks\u001b[0m\u001b[0;34m.\u001b[0m\u001b[0mon_train_batch_begin\u001b[0m\u001b[0;34m(\u001b[0m\u001b[0mstep\u001b[0m\u001b[0;34m)\u001b[0m\u001b[0;34m\u001b[0m\u001b[0;34m\u001b[0m\u001b[0m\n\u001b[0;32m-> 1216\u001b[0;31m               \u001b[0mtmp_logs\u001b[0m \u001b[0;34m=\u001b[0m \u001b[0mself\u001b[0m\u001b[0;34m.\u001b[0m\u001b[0mtrain_function\u001b[0m\u001b[0;34m(\u001b[0m\u001b[0miterator\u001b[0m\u001b[0;34m)\u001b[0m\u001b[0;34m\u001b[0m\u001b[0;34m\u001b[0m\u001b[0m\n\u001b[0m\u001b[1;32m   1217\u001b[0m               \u001b[0;32mif\u001b[0m \u001b[0mdata_handler\u001b[0m\u001b[0;34m.\u001b[0m\u001b[0mshould_sync\u001b[0m\u001b[0;34m:\u001b[0m\u001b[0;34m\u001b[0m\u001b[0;34m\u001b[0m\u001b[0m\n\u001b[1;32m   1218\u001b[0m                 \u001b[0mcontext\u001b[0m\u001b[0;34m.\u001b[0m\u001b[0masync_wait\u001b[0m\u001b[0;34m(\u001b[0m\u001b[0;34m)\u001b[0m\u001b[0;34m\u001b[0m\u001b[0;34m\u001b[0m\u001b[0m\n",
            "\u001b[0;32m/usr/local/lib/python3.7/dist-packages/tensorflow/python/util/traceback_utils.py\u001b[0m in \u001b[0;36merror_handler\u001b[0;34m(*args, **kwargs)\u001b[0m\n\u001b[1;32m    148\u001b[0m     \u001b[0mfiltered_tb\u001b[0m \u001b[0;34m=\u001b[0m \u001b[0;32mNone\u001b[0m\u001b[0;34m\u001b[0m\u001b[0;34m\u001b[0m\u001b[0m\n\u001b[1;32m    149\u001b[0m     \u001b[0;32mtry\u001b[0m\u001b[0;34m:\u001b[0m\u001b[0;34m\u001b[0m\u001b[0;34m\u001b[0m\u001b[0m\n\u001b[0;32m--> 150\u001b[0;31m       \u001b[0;32mreturn\u001b[0m \u001b[0mfn\u001b[0m\u001b[0;34m(\u001b[0m\u001b[0;34m*\u001b[0m\u001b[0margs\u001b[0m\u001b[0;34m,\u001b[0m \u001b[0;34m**\u001b[0m\u001b[0mkwargs\u001b[0m\u001b[0;34m)\u001b[0m\u001b[0;34m\u001b[0m\u001b[0;34m\u001b[0m\u001b[0m\n\u001b[0m\u001b[1;32m    151\u001b[0m     \u001b[0;32mexcept\u001b[0m \u001b[0mException\u001b[0m \u001b[0;32mas\u001b[0m \u001b[0me\u001b[0m\u001b[0;34m:\u001b[0m\u001b[0;34m\u001b[0m\u001b[0;34m\u001b[0m\u001b[0m\n\u001b[1;32m    152\u001b[0m       \u001b[0mfiltered_tb\u001b[0m \u001b[0;34m=\u001b[0m \u001b[0m_process_traceback_frames\u001b[0m\u001b[0;34m(\u001b[0m\u001b[0me\u001b[0m\u001b[0;34m.\u001b[0m\u001b[0m__traceback__\u001b[0m\u001b[0;34m)\u001b[0m\u001b[0;34m\u001b[0m\u001b[0;34m\u001b[0m\u001b[0m\n",
            "\u001b[0;32m/usr/local/lib/python3.7/dist-packages/tensorflow/python/eager/def_function.py\u001b[0m in \u001b[0;36m__call__\u001b[0;34m(self, *args, **kwds)\u001b[0m\n\u001b[1;32m    908\u001b[0m \u001b[0;34m\u001b[0m\u001b[0m\n\u001b[1;32m    909\u001b[0m       \u001b[0;32mwith\u001b[0m \u001b[0mOptionalXlaContext\u001b[0m\u001b[0;34m(\u001b[0m\u001b[0mself\u001b[0m\u001b[0;34m.\u001b[0m\u001b[0m_jit_compile\u001b[0m\u001b[0;34m)\u001b[0m\u001b[0;34m:\u001b[0m\u001b[0;34m\u001b[0m\u001b[0;34m\u001b[0m\u001b[0m\n\u001b[0;32m--> 910\u001b[0;31m         \u001b[0mresult\u001b[0m \u001b[0;34m=\u001b[0m \u001b[0mself\u001b[0m\u001b[0;34m.\u001b[0m\u001b[0m_call\u001b[0m\u001b[0;34m(\u001b[0m\u001b[0;34m*\u001b[0m\u001b[0margs\u001b[0m\u001b[0;34m,\u001b[0m \u001b[0;34m**\u001b[0m\u001b[0mkwds\u001b[0m\u001b[0;34m)\u001b[0m\u001b[0;34m\u001b[0m\u001b[0;34m\u001b[0m\u001b[0m\n\u001b[0m\u001b[1;32m    911\u001b[0m \u001b[0;34m\u001b[0m\u001b[0m\n\u001b[1;32m    912\u001b[0m       \u001b[0mnew_tracing_count\u001b[0m \u001b[0;34m=\u001b[0m \u001b[0mself\u001b[0m\u001b[0;34m.\u001b[0m\u001b[0mexperimental_get_tracing_count\u001b[0m\u001b[0;34m(\u001b[0m\u001b[0;34m)\u001b[0m\u001b[0;34m\u001b[0m\u001b[0;34m\u001b[0m\u001b[0m\n",
            "\u001b[0;32m/usr/local/lib/python3.7/dist-packages/tensorflow/python/eager/def_function.py\u001b[0m in \u001b[0;36m_call\u001b[0;34m(self, *args, **kwds)\u001b[0m\n\u001b[1;32m    940\u001b[0m       \u001b[0;31m# In this case we have created variables on the first call, so we run the\u001b[0m\u001b[0;34m\u001b[0m\u001b[0;34m\u001b[0m\u001b[0;34m\u001b[0m\u001b[0m\n\u001b[1;32m    941\u001b[0m       \u001b[0;31m# defunned version which is guaranteed to never create variables.\u001b[0m\u001b[0;34m\u001b[0m\u001b[0;34m\u001b[0m\u001b[0;34m\u001b[0m\u001b[0m\n\u001b[0;32m--> 942\u001b[0;31m       \u001b[0;32mreturn\u001b[0m \u001b[0mself\u001b[0m\u001b[0;34m.\u001b[0m\u001b[0m_stateless_fn\u001b[0m\u001b[0;34m(\u001b[0m\u001b[0;34m*\u001b[0m\u001b[0margs\u001b[0m\u001b[0;34m,\u001b[0m \u001b[0;34m**\u001b[0m\u001b[0mkwds\u001b[0m\u001b[0;34m)\u001b[0m  \u001b[0;31m# pylint: disable=not-callable\u001b[0m\u001b[0;34m\u001b[0m\u001b[0;34m\u001b[0m\u001b[0m\n\u001b[0m\u001b[1;32m    943\u001b[0m     \u001b[0;32melif\u001b[0m \u001b[0mself\u001b[0m\u001b[0;34m.\u001b[0m\u001b[0m_stateful_fn\u001b[0m \u001b[0;32mis\u001b[0m \u001b[0;32mnot\u001b[0m \u001b[0;32mNone\u001b[0m\u001b[0;34m:\u001b[0m\u001b[0;34m\u001b[0m\u001b[0;34m\u001b[0m\u001b[0m\n\u001b[1;32m    944\u001b[0m       \u001b[0;31m# Release the lock early so that multiple threads can perform the call\u001b[0m\u001b[0;34m\u001b[0m\u001b[0;34m\u001b[0m\u001b[0;34m\u001b[0m\u001b[0m\n",
            "\u001b[0;32m/usr/local/lib/python3.7/dist-packages/tensorflow/python/eager/function.py\u001b[0m in \u001b[0;36m__call__\u001b[0;34m(self, *args, **kwargs)\u001b[0m\n\u001b[1;32m   3129\u001b[0m        filtered_flat_args) = self._maybe_define_function(args, kwargs)\n\u001b[1;32m   3130\u001b[0m     return graph_function._call_flat(\n\u001b[0;32m-> 3131\u001b[0;31m         filtered_flat_args, captured_inputs=graph_function.captured_inputs)  # pylint: disable=protected-access\n\u001b[0m\u001b[1;32m   3132\u001b[0m \u001b[0;34m\u001b[0m\u001b[0m\n\u001b[1;32m   3133\u001b[0m   \u001b[0;34m@\u001b[0m\u001b[0mproperty\u001b[0m\u001b[0;34m\u001b[0m\u001b[0;34m\u001b[0m\u001b[0m\n",
            "\u001b[0;32m/usr/local/lib/python3.7/dist-packages/tensorflow/python/eager/function.py\u001b[0m in \u001b[0;36m_call_flat\u001b[0;34m(self, args, captured_inputs, cancellation_manager)\u001b[0m\n\u001b[1;32m   1958\u001b[0m       \u001b[0;31m# No tape is watching; skip to running the function.\u001b[0m\u001b[0;34m\u001b[0m\u001b[0;34m\u001b[0m\u001b[0;34m\u001b[0m\u001b[0m\n\u001b[1;32m   1959\u001b[0m       return self._build_call_outputs(self._inference_function.call(\n\u001b[0;32m-> 1960\u001b[0;31m           ctx, args, cancellation_manager=cancellation_manager))\n\u001b[0m\u001b[1;32m   1961\u001b[0m     forward_backward = self._select_forward_and_backward_functions(\n\u001b[1;32m   1962\u001b[0m         \u001b[0margs\u001b[0m\u001b[0;34m,\u001b[0m\u001b[0;34m\u001b[0m\u001b[0;34m\u001b[0m\u001b[0m\n",
            "\u001b[0;32m/usr/local/lib/python3.7/dist-packages/tensorflow/python/eager/function.py\u001b[0m in \u001b[0;36mcall\u001b[0;34m(self, ctx, args, cancellation_manager)\u001b[0m\n\u001b[1;32m    601\u001b[0m               \u001b[0minputs\u001b[0m\u001b[0;34m=\u001b[0m\u001b[0margs\u001b[0m\u001b[0;34m,\u001b[0m\u001b[0;34m\u001b[0m\u001b[0;34m\u001b[0m\u001b[0m\n\u001b[1;32m    602\u001b[0m               \u001b[0mattrs\u001b[0m\u001b[0;34m=\u001b[0m\u001b[0mattrs\u001b[0m\u001b[0;34m,\u001b[0m\u001b[0;34m\u001b[0m\u001b[0;34m\u001b[0m\u001b[0m\n\u001b[0;32m--> 603\u001b[0;31m               ctx=ctx)\n\u001b[0m\u001b[1;32m    604\u001b[0m         \u001b[0;32melse\u001b[0m\u001b[0;34m:\u001b[0m\u001b[0;34m\u001b[0m\u001b[0;34m\u001b[0m\u001b[0m\n\u001b[1;32m    605\u001b[0m           outputs = execute.execute_with_cancellation(\n",
            "\u001b[0;32m/usr/local/lib/python3.7/dist-packages/tensorflow/python/eager/execute.py\u001b[0m in \u001b[0;36mquick_execute\u001b[0;34m(op_name, num_outputs, inputs, attrs, ctx, name)\u001b[0m\n\u001b[1;32m     57\u001b[0m     \u001b[0mctx\u001b[0m\u001b[0;34m.\u001b[0m\u001b[0mensure_initialized\u001b[0m\u001b[0;34m(\u001b[0m\u001b[0;34m)\u001b[0m\u001b[0;34m\u001b[0m\u001b[0;34m\u001b[0m\u001b[0m\n\u001b[1;32m     58\u001b[0m     tensors = pywrap_tfe.TFE_Py_Execute(ctx._handle, device_name, op_name,\n\u001b[0;32m---> 59\u001b[0;31m                                         inputs, attrs, num_outputs)\n\u001b[0m\u001b[1;32m     60\u001b[0m   \u001b[0;32mexcept\u001b[0m \u001b[0mcore\u001b[0m\u001b[0;34m.\u001b[0m\u001b[0m_NotOkStatusException\u001b[0m \u001b[0;32mas\u001b[0m \u001b[0me\u001b[0m\u001b[0;34m:\u001b[0m\u001b[0;34m\u001b[0m\u001b[0;34m\u001b[0m\u001b[0m\n\u001b[1;32m     61\u001b[0m     \u001b[0;32mif\u001b[0m \u001b[0mname\u001b[0m \u001b[0;32mis\u001b[0m \u001b[0;32mnot\u001b[0m \u001b[0;32mNone\u001b[0m\u001b[0;34m:\u001b[0m\u001b[0;34m\u001b[0m\u001b[0;34m\u001b[0m\u001b[0m\n",
            "\u001b[0;31mKeyboardInterrupt\u001b[0m: "
          ]
        }
      ],
      "source": [
        "model.fit(df_train,label_train,epochs=7)"
      ]
    },
    {
      "cell_type": "code",
      "execution_count": null,
      "metadata": {
        "colab": {
          "base_uri": "https://localhost:8080/",
          "height": 748
        },
        "id": "Nn02ruZWeLGS",
        "outputId": "e1585b3b-73a6-4a63-8726-1ec75cec7592"
      },
      "outputs": [
        {
          "name": "stdout",
          "output_type": "stream",
          "text": [
            "Epoch 1/30\n",
            "WARNING:tensorflow:Model was constructed with shape (None, None, 26) for input KerasTensor(type_spec=TensorSpec(shape=(None, None, 26), dtype=tf.float32, name='lstm_1_input'), name='lstm_1_input', description=\"created by layer 'lstm_1_input'\"), but it was called on an input with incompatible shape (None, 26).\n"
          ]
        },
        {
          "ename": "ValueError",
          "evalue": "ignored",
          "output_type": "error",
          "traceback": [
            "\u001b[0;31m---------------------------------------------------------------------------\u001b[0m",
            "\u001b[0;31mValueError\u001b[0m                                Traceback (most recent call last)",
            "\u001b[0;32m<ipython-input-49-98c146269fe2>\u001b[0m in \u001b[0;36m<module>\u001b[0;34m()\u001b[0m\n\u001b[0;32m----> 1\u001b[0;31m \u001b[0mmodel\u001b[0m\u001b[0;34m.\u001b[0m\u001b[0mfit\u001b[0m\u001b[0;34m(\u001b[0m\u001b[0mdf_train\u001b[0m\u001b[0;34m,\u001b[0m\u001b[0mepochs\u001b[0m\u001b[0;34m=\u001b[0m\u001b[0;36m30\u001b[0m\u001b[0;34m)\u001b[0m\u001b[0;34m\u001b[0m\u001b[0;34m\u001b[0m\u001b[0m\n\u001b[0m",
            "\u001b[0;32m/usr/local/lib/python3.7/dist-packages/keras/utils/traceback_utils.py\u001b[0m in \u001b[0;36merror_handler\u001b[0;34m(*args, **kwargs)\u001b[0m\n\u001b[1;32m     65\u001b[0m     \u001b[0;32mexcept\u001b[0m \u001b[0mException\u001b[0m \u001b[0;32mas\u001b[0m \u001b[0me\u001b[0m\u001b[0;34m:\u001b[0m  \u001b[0;31m# pylint: disable=broad-except\u001b[0m\u001b[0;34m\u001b[0m\u001b[0;34m\u001b[0m\u001b[0m\n\u001b[1;32m     66\u001b[0m       \u001b[0mfiltered_tb\u001b[0m \u001b[0;34m=\u001b[0m \u001b[0m_process_traceback_frames\u001b[0m\u001b[0;34m(\u001b[0m\u001b[0me\u001b[0m\u001b[0;34m.\u001b[0m\u001b[0m__traceback__\u001b[0m\u001b[0;34m)\u001b[0m\u001b[0;34m\u001b[0m\u001b[0;34m\u001b[0m\u001b[0m\n\u001b[0;32m---> 67\u001b[0;31m       \u001b[0;32mraise\u001b[0m \u001b[0me\u001b[0m\u001b[0;34m.\u001b[0m\u001b[0mwith_traceback\u001b[0m\u001b[0;34m(\u001b[0m\u001b[0mfiltered_tb\u001b[0m\u001b[0;34m)\u001b[0m \u001b[0;32mfrom\u001b[0m \u001b[0;32mNone\u001b[0m\u001b[0;34m\u001b[0m\u001b[0;34m\u001b[0m\u001b[0m\n\u001b[0m\u001b[1;32m     68\u001b[0m     \u001b[0;32mfinally\u001b[0m\u001b[0;34m:\u001b[0m\u001b[0;34m\u001b[0m\u001b[0;34m\u001b[0m\u001b[0m\n\u001b[1;32m     69\u001b[0m       \u001b[0;32mdel\u001b[0m \u001b[0mfiltered_tb\u001b[0m\u001b[0;34m\u001b[0m\u001b[0;34m\u001b[0m\u001b[0m\n",
            "\u001b[0;32m/usr/local/lib/python3.7/dist-packages/tensorflow/python/framework/func_graph.py\u001b[0m in \u001b[0;36mautograph_handler\u001b[0;34m(*args, **kwargs)\u001b[0m\n\u001b[1;32m   1127\u001b[0m           \u001b[0;32mexcept\u001b[0m \u001b[0mException\u001b[0m \u001b[0;32mas\u001b[0m \u001b[0me\u001b[0m\u001b[0;34m:\u001b[0m  \u001b[0;31m# pylint:disable=broad-except\u001b[0m\u001b[0;34m\u001b[0m\u001b[0;34m\u001b[0m\u001b[0m\n\u001b[1;32m   1128\u001b[0m             \u001b[0;32mif\u001b[0m \u001b[0mhasattr\u001b[0m\u001b[0;34m(\u001b[0m\u001b[0me\u001b[0m\u001b[0;34m,\u001b[0m \u001b[0;34m\"ag_error_metadata\"\u001b[0m\u001b[0;34m)\u001b[0m\u001b[0;34m:\u001b[0m\u001b[0;34m\u001b[0m\u001b[0;34m\u001b[0m\u001b[0m\n\u001b[0;32m-> 1129\u001b[0;31m               \u001b[0;32mraise\u001b[0m \u001b[0me\u001b[0m\u001b[0;34m.\u001b[0m\u001b[0mag_error_metadata\u001b[0m\u001b[0;34m.\u001b[0m\u001b[0mto_exception\u001b[0m\u001b[0;34m(\u001b[0m\u001b[0me\u001b[0m\u001b[0;34m)\u001b[0m\u001b[0;34m\u001b[0m\u001b[0;34m\u001b[0m\u001b[0m\n\u001b[0m\u001b[1;32m   1130\u001b[0m             \u001b[0;32melse\u001b[0m\u001b[0;34m:\u001b[0m\u001b[0;34m\u001b[0m\u001b[0;34m\u001b[0m\u001b[0m\n\u001b[1;32m   1131\u001b[0m               \u001b[0;32mraise\u001b[0m\u001b[0;34m\u001b[0m\u001b[0;34m\u001b[0m\u001b[0m\n",
            "\u001b[0;31mValueError\u001b[0m: in user code:\n\n    File \"/usr/local/lib/python3.7/dist-packages/keras/engine/training.py\", line 878, in train_function  *\n        return step_function(self, iterator)\n    File \"/usr/local/lib/python3.7/dist-packages/keras/engine/training.py\", line 867, in step_function  **\n        outputs = model.distribute_strategy.run(run_step, args=(data,))\n    File \"/usr/local/lib/python3.7/dist-packages/keras/engine/training.py\", line 860, in run_step  **\n        outputs = model.train_step(data)\n    File \"/usr/local/lib/python3.7/dist-packages/keras/engine/training.py\", line 808, in train_step\n        y_pred = self(x, training=True)\n    File \"/usr/local/lib/python3.7/dist-packages/keras/utils/traceback_utils.py\", line 67, in error_handler\n        raise e.with_traceback(filtered_tb) from None\n    File \"/usr/local/lib/python3.7/dist-packages/keras/engine/input_spec.py\", line 213, in assert_input_compatibility\n        raise ValueError(f'Input {input_index} of layer \"{layer_name}\" '\n\n    ValueError: Exception encountered when calling layer \"sequential_1\" (type Sequential).\n    \n    Input 0 of layer \"lstm_1\" is incompatible with the layer: expected ndim=3, found ndim=2. Full shape received: (None, 26)\n    \n    Call arguments received:\n      • inputs=tf.Tensor(shape=(None, 26), dtype=float64)\n      • training=True\n      • mask=None\n"
          ]
        }
      ],
      "source": [
        "model.fit(df_train,epochs=30)"
      ]
    },
    {
      "cell_type": "code",
      "execution_count": null,
      "metadata": {
        "colab": {
          "base_uri": "https://localhost:8080/"
        },
        "id": "YFcKegEtbCiF",
        "outputId": "90d8db8a-9726-4b15-b6d2-7da5017f0f6a"
      },
      "outputs": [
        {
          "name": "stdout",
          "output_type": "stream",
          "text": [
            "Epoch 1/30\n",
            "796/796 [==============================] - 20s 25ms/step - loss: 0.4911 - mean_squared_error: 0.4500 - mean_absolute_percentage_error: 468199456.0000\n",
            "Epoch 2/30\n",
            "796/796 [==============================] - 20s 25ms/step - loss: 0.4914 - mean_squared_error: 0.4527 - mean_absolute_percentage_error: 468718304.0000\n",
            "Epoch 3/30\n",
            "796/796 [==============================] - 20s 25ms/step - loss: 0.4911 - mean_squared_error: 0.4530 - mean_absolute_percentage_error: 469074144.0000\n",
            "Epoch 4/30\n",
            "796/796 [==============================] - 19s 24ms/step - loss: 0.4910 - mean_squared_error: 0.4594 - mean_absolute_percentage_error: 471780128.0000\n",
            "Epoch 5/30\n",
            "796/796 [==============================] - 19s 24ms/step - loss: 0.4907 - mean_squared_error: 0.4681 - mean_absolute_percentage_error: 475910016.0000\n",
            "Epoch 6/30\n",
            "796/796 [==============================] - 20s 25ms/step - loss: 0.4908 - mean_squared_error: 0.4469 - mean_absolute_percentage_error: 462585312.0000\n",
            "Epoch 7/30\n",
            "796/796 [==============================] - 20s 25ms/step - loss: 0.4910 - mean_squared_error: 0.4583 - mean_absolute_percentage_error: 470799168.0000\n",
            "Epoch 8/30\n",
            "796/796 [==============================] - 20s 25ms/step - loss: 0.4908 - mean_squared_error: 0.4553 - mean_absolute_percentage_error: 469168000.0000\n",
            "Epoch 9/30\n",
            "796/796 [==============================] - 19s 24ms/step - loss: 0.4908 - mean_squared_error: 0.4548 - mean_absolute_percentage_error: 469040480.0000\n",
            "Epoch 10/30\n",
            "796/796 [==============================] - 19s 24ms/step - loss: 0.4904 - mean_squared_error: 0.4658 - mean_absolute_percentage_error: 474703040.0000\n",
            "Epoch 11/30\n",
            "796/796 [==============================] - 19s 24ms/step - loss: 0.4910 - mean_squared_error: 0.4625 - mean_absolute_percentage_error: 475695360.0000\n",
            "Epoch 12/30\n",
            "796/796 [==============================] - 19s 24ms/step - loss: 0.4908 - mean_squared_error: 0.4689 - mean_absolute_percentage_error: 479074080.0000\n",
            "Epoch 13/30\n",
            "796/796 [==============================] - 19s 24ms/step - loss: 0.4910 - mean_squared_error: 0.4471 - mean_absolute_percentage_error: 466749344.0000\n",
            "Epoch 14/30\n",
            "796/796 [==============================] - 20s 25ms/step - loss: 0.4911 - mean_squared_error: 0.4470 - mean_absolute_percentage_error: 466739168.0000\n",
            "Epoch 15/30\n",
            "796/796 [==============================] - 20s 25ms/step - loss: 0.4911 - mean_squared_error: 0.4389 - mean_absolute_percentage_error: 462288288.0000\n",
            "Epoch 16/30\n",
            "796/796 [==============================] - 20s 25ms/step - loss: 0.4909 - mean_squared_error: 0.4607 - mean_absolute_percentage_error: 474704736.0000\n",
            "Epoch 17/30\n",
            "796/796 [==============================] - 20s 25ms/step - loss: 0.4908 - mean_squared_error: 0.4570 - mean_absolute_percentage_error: 472696224.0000\n",
            "Epoch 18/30\n",
            "796/796 [==============================] - 20s 25ms/step - loss: 0.4909 - mean_squared_error: 0.4648 - mean_absolute_percentage_error: 476921568.0000\n",
            "Epoch 19/30\n",
            "796/796 [==============================] - 20s 25ms/step - loss: 0.4909 - mean_squared_error: 0.4596 - mean_absolute_percentage_error: 474063168.0000\n",
            "Epoch 20/30\n",
            "796/796 [==============================] - 20s 25ms/step - loss: 0.4907 - mean_squared_error: 0.4680 - mean_absolute_percentage_error: 478678144.0000\n",
            "Epoch 21/30\n",
            "796/796 [==============================] - 20s 25ms/step - loss: 0.4910 - mean_squared_error: 0.4603 - mean_absolute_percentage_error: 474498528.0000\n",
            "Epoch 22/30\n",
            "796/796 [==============================] - 20s 25ms/step - loss: 0.4908 - mean_squared_error: 0.4595 - mean_absolute_percentage_error: 473949184.0000\n",
            "Epoch 23/30\n",
            "796/796 [==============================] - 20s 25ms/step - loss: 0.4911 - mean_squared_error: 0.4529 - mean_absolute_percentage_error: 470102400.0000\n",
            "Epoch 24/30\n",
            "796/796 [==============================] - 20s 25ms/step - loss: 0.4908 - mean_squared_error: 0.4670 - mean_absolute_percentage_error: 478107584.0000\n",
            "Epoch 25/30\n",
            "796/796 [==============================] - 20s 25ms/step - loss: 0.4909 - mean_squared_error: 0.4605 - mean_absolute_percentage_error: 474534784.0000\n",
            "Epoch 26/30\n",
            "796/796 [==============================] - 20s 25ms/step - loss: 0.4907 - mean_squared_error: 0.4626 - mean_absolute_percentage_error: 475692448.0000\n",
            "Epoch 27/30\n",
            "796/796 [==============================] - 20s 26ms/step - loss: 0.4909 - mean_squared_error: 0.4539 - mean_absolute_percentage_error: 471009280.0000\n",
            "Epoch 28/30\n",
            "796/796 [==============================] - 20s 25ms/step - loss: 0.4911 - mean_squared_error: 0.4528 - mean_absolute_percentage_error: 469967072.0000\n",
            "Epoch 29/30\n",
            "796/796 [==============================] - 20s 25ms/step - loss: 0.4909 - mean_squared_error: 0.4646 - mean_absolute_percentage_error: 476878816.0000\n",
            "Epoch 30/30\n",
            "796/796 [==============================] - 20s 25ms/step - loss: 0.4909 - mean_squared_error: 0.4597 - mean_absolute_percentage_error: 473924512.0000\n"
          ]
        },
        {
          "data": {
            "text/plain": [
              "<keras.callbacks.History at 0x7f4c9c6a3bd0>"
            ]
          },
          "execution_count": 56,
          "metadata": {},
          "output_type": "execute_result"
        }
      ],
      "source": [
        "model.fit(df_train,label_train,epochs=30)"
      ]
    },
    {
      "cell_type": "code",
      "execution_count": null,
      "metadata": {
        "colab": {
          "base_uri": "https://localhost:8080/"
        },
        "id": "QTKOYxwMa-Tq",
        "outputId": "2d491a29-812c-4d02-b779-073ee9fa009a"
      },
      "outputs": [
        {
          "name": "stderr",
          "output_type": "stream",
          "text": [
            "/usr/local/lib/python3.7/dist-packages/ipykernel_launcher.py:4: SettingWithCopyWarning: \n",
            "A value is trying to be set on a copy of a slice from a DataFrame\n",
            "\n",
            "See the caveats in the documentation: https://pandas.pydata.org/pandas-docs/stable/user_guide/indexing.html#returning-a-view-versus-a-copy\n",
            "  after removing the cwd from sys.path.\n",
            "/usr/local/lib/python3.7/dist-packages/ipykernel_launcher.py:7: SettingWithCopyWarning: \n",
            "A value is trying to be set on a copy of a slice from a DataFrame\n",
            "\n",
            "See the caveats in the documentation: https://pandas.pydata.org/pandas-docs/stable/user_guide/indexing.html#returning-a-view-versus-a-copy\n",
            "  import sys\n",
            "/usr/local/lib/python3.7/dist-packages/ipykernel_launcher.py:9: SettingWithCopyWarning: \n",
            "A value is trying to be set on a copy of a slice from a DataFrame\n",
            "\n",
            "See the caveats in the documentation: https://pandas.pydata.org/pandas-docs/stable/user_guide/indexing.html#returning-a-view-versus-a-copy\n",
            "  if __name__ == '__main__':\n"
          ]
        }
      ],
      "source": [
        "import math\n",
        "df[\"technical wonly\"]=0.5\n",
        "for i in range(20):\n",
        "  df[\"technical wonly\"][i]=0.5\n",
        "for j in range(20,10316):  \n",
        "  if (df['RSI_7'][j]>60 and df['+DI'][j]>df['-DI'][j]):\n",
        "    df[\"technical wonly\"][j]=1\n",
        "  elif df['RSI_7'][j]<50 and df['+DI'][j]>df['-DI'][j]:\n",
        "    df[\"technical wonly\"][j]=0"
      ]
    },
    {
      "cell_type": "code",
      "execution_count": null,
      "metadata": {
        "colab": {
          "base_uri": "https://localhost:8080/",
          "height": 131
        },
        "id": "e-sUjQ0JjLt6",
        "outputId": "1e789d65-99c4-4d03-c935-738dda0dd565"
      },
      "outputs": [
        {
          "ename": "SyntaxError",
          "evalue": "ignored",
          "output_type": "error",
          "traceback": [
            "\u001b[0;36m  File \u001b[0;32m\"<ipython-input-45-048daefc188f>\"\u001b[0;36m, line \u001b[0;32m2\u001b[0m\n\u001b[0;31m    difference=difference.mod(*)\u001b[0m\n\u001b[0m                               ^\u001b[0m\n\u001b[0;31mSyntaxError\u001b[0m\u001b[0;31m:\u001b[0m invalid syntax\n"
          ]
        }
      ],
      "source": [
        "difference=df[\"technical wonly\"]-df3['target']\n",
        "difference=difference.mod(*)\n",
        "difference.mean()"
      ]
    },
    {
      "cell_type": "code",
      "execution_count": null,
      "metadata": {
        "id": "PgazbsKGKxLq"
      },
      "outputs": [],
      "source": [
        "df2_test=df2.loc[:,['RSI_7', 'RSI_14', 'RSI_21', 'ATR_14', 'bb_mavg',\n",
        "       'bb_hband', 'bb_lband', 'open', 'high', 'low', 'close']]\n",
        "df2_test=df2_test.to_numpy()\n",
        "len(df2_test)"
      ]
    },
    {
      "cell_type": "code",
      "execution_count": null,
      "metadata": {
        "colab": {
          "background_save": true
        },
        "id": "21OIi8sjXJwM"
      },
      "outputs": [],
      "source": [
        "from sklearn.metrics import roc_auc_score\n"
      ]
    },
    {
      "cell_type": "code",
      "execution_count": null,
      "metadata": {
        "id": "AxnkgdwvXU8K"
      },
      "outputs": [],
      "source": [
        "roc_auc_score(label_train,m)"
      ]
    }
  ],
  "metadata": {
    "accelerator": "GPU",
    "colab": {
      "collapsed_sections": [],
      "name": "IITR3.ipynb",
      "provenance": []
    },
    "kernelspec": {
      "display_name": "Python 3",
      "name": "python3"
    },
    "language_info": {
      "name": "python"
    }
  },
  "nbformat": 4,
  "nbformat_minor": 0
}